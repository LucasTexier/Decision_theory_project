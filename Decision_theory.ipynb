{
 "cells": [
  {
   "cell_type": "markdown",
   "metadata": {},
   "source": [
    "# Decision theory project"
   ]
  },
  {
   "cell_type": "code",
   "execution_count": 1,
   "metadata": {},
   "outputs": [],
   "source": [
    "import pandas as pd\n",
    "import numpy as np\n",
    "from scipy.spatial.distance import pdist, squareform\n",
    "from sklearn.model_selection import train_test_split"
   ]
  },
  {
   "cell_type": "code",
   "execution_count": 2,
   "metadata": {},
   "outputs": [],
   "source": [
    "# Create train and test datasets\n",
    "data = pd.read_csv(\"./PlasticsTrain.csv\", sep=\";\")\n",
    "\n",
    "y = data[\"class\"]\n",
    "X = data.drop([\"class\", \"line\", \"column\", \"object\"], axis=1)\n",
    "\n",
    "X_train, X_test, y_train, y_test = train_test_split(X, y, train_size=0.8)"
   ]
  },
  {
   "cell_type": "code",
   "execution_count": 3,
   "metadata": {},
   "outputs": [],
   "source": [
    "def fit_gamma(train_data, train_label, dist, classes):\n",
    "    gamma = []\n",
    "    nbC = len(classes)\n",
    "    for i in range(nbC):\n",
    "        C_indices = [t for t in range(len(train_label)) if (train_label.iloc[t] == classes[i])]\n",
    "        C_dist = []\n",
    "        for ci in range(len(C_indices)):\n",
    "            for cj in range(ci + 1, len(C_indices)):\n",
    "                C_dist.append(dist[C_indices[ci]][C_indices[cj]])\n",
    "        gamma.append(1 / np.mean(C_dist) if len(C_dist) > 0 else np.nan)\n",
    "    return gamma"
   ]
  },
  {
   "cell_type": "code",
   "execution_count": 4,
   "metadata": {},
   "outputs": [],
   "source": [
    "# Distances\n",
    "newDF = pd.concat([X_train, X_test])\n",
    "\n",
    "# Convertir toutes les colonnes en float\n",
    "newDF = newDF.replace(',', '.', regex=True)\n",
    "newDF = newDF.astype(float)\n",
    "\n",
    "distances = pdist(newDF.values, metric='euclidean')\n",
    "dist_matrix = squareform(distances)"
   ]
  },
  {
   "cell_type": "code",
   "execution_count": 5,
   "metadata": {},
   "outputs": [],
   "source": [
    "label = X.columns\n",
    "classe = y_train.unique()\n",
    "\n",
    "coeff_gamma = fit_gamma(X_train, y_train, dist_matrix, classe)\n"
   ]
  },
  {
   "cell_type": "code",
   "execution_count": 7,
   "metadata": {},
   "outputs": [
    {
     "data": {
      "text/plain": [
       "[0.19069967085541129,\n",
       " 0.2154706603038034,\n",
       " 0.3829252745653152,\n",
       " 0.37767173121898445]"
      ]
     },
     "execution_count": 7,
     "metadata": {},
     "output_type": "execute_result"
    }
   ],
   "source": [
    "#We have the coefficients gamma_i for each class\n",
    "coeff_gamma"
   ]
  },
  {
   "cell_type": "code",
   "execution_count": 12,
   "metadata": {},
   "outputs": [],
   "source": [
    "#define coefficient phi and we fix alpha = 0.95\n",
    "def phi(gamma, d, alpha=0.95):\n",
    "    return [alpha*np.exp(-gamma[i]*d**2) for i in range(len(gamma))]"
   ]
  },
  {
   "cell_type": "code",
   "execution_count": 13,
   "metadata": {},
   "outputs": [
    {
     "data": {
      "text/plain": [
       "[0.0449372580313906,\n",
       " 0.03023292068987073,\n",
       " 0.002074370204169698,\n",
       " 0.0022562728829849956]"
      ]
     },
     "execution_count": 13,
     "metadata": {},
     "output_type": "execute_result"
    }
   ],
   "source": [
    "phi(coeff_gamma, 4)"
   ]
  },
  {
   "cell_type": "code",
   "execution_count": 34,
   "metadata": {},
   "outputs": [],
   "source": [
    "def voisins(indice, train_size, y):\n",
    "    indice_triee = np.argsort(dist_matrix[indice])\n",
    "    indice_voisins = []\n",
    "    compteur = 1\n",
    "    while len(indice_voisins) < 5:\n",
    "        if(indice_triee[compteur]<train_size):\n",
    "            indice_voisins.append(indice_triee[compteur])\n",
    "            \n",
    "        compteur += 1\n",
    "    distance_voisins = dist_matrix[indice, indice_voisins]\n",
    "    classes = y[indice_voisins]\n",
    "    return indice_voisins, distance_voisins, classes"
   ]
  },
  {
   "cell_type": "code",
   "execution_count": 35,
   "metadata": {},
   "outputs": [
    {
     "data": {
      "text/plain": [
       "([223, 5249, 7220, 4724, 4894],\n",
       " array([0.42876488, 0.57613252, 0.58430865, 0.59136781, 0.59287058]),\n",
       " 223      ABS\n",
       " 5249      PE\n",
       " 7220      PE\n",
       " 4724    HiPS\n",
       " 4894      PE\n",
       " Name: class, dtype: object)"
      ]
     },
     "execution_count": 35,
     "metadata": {},
     "output_type": "execute_result"
    }
   ],
   "source": [
    "voisins(10000, len(X_train), y)"
   ]
  },
  {
   "cell_type": "code",
   "execution_count": 36,
   "metadata": {},
   "outputs": [
    {
     "data": {
      "text/plain": [
       "array(['ABS', 'HiPS', 'PE', 'PP'], dtype=object)"
      ]
     },
     "execution_count": 36,
     "metadata": {},
     "output_type": "execute_result"
    }
   ],
   "source": [
    "y.unique()"
   ]
  },
  {
   "cell_type": "code",
   "execution_count": 43,
   "metadata": {},
   "outputs": [
    {
     "ename": "SyntaxError",
     "evalue": "incomplete input (2251965070.py, line 6)",
     "output_type": "error",
     "traceback": [
      "\u001b[1;36m  Cell \u001b[1;32mIn[43], line 6\u001b[1;36m\u001b[0m\n\u001b[1;33m    \u001b[0m\n\u001b[1;37m    ^\u001b[0m\n\u001b[1;31mSyntaxError\u001b[0m\u001b[1;31m:\u001b[0m incomplete input\n"
     ]
    }
   ],
   "source": [
    "def m_j(indice, train_size, y):\n",
    "    indice_voisins, distance_voisins, classes = voisins(indice, train_size, y)\n",
    "    coeff_ABS, coeff_HIPS, coeff_PE, coeff_PP = 1, 1, 1, 1\n",
    "    #calcul des coefficients\n",
    "    for i in range(len(indice_voisins)) : \n",
    "        if classes[i] == 'ABS':\n",
    "            coeff_ABS *= (1- phi(coeff_gamma, distance_voisins[i])[0])\n",
    "        elif classes[i] == 'HIPS':\n",
    "            coeff_HIPS *= (1- phi(coeff_gamma, distance_voisins[i])[1])\n",
    "        elif classes[i] == 'PE':\n",
    "            coeff_PE *= (1- phi(coeff_gamma, distance_voisins[i])[2])\n",
    "        elif classes[i] == 'PP':\n",
    "            coeff_PP *= (1- phi(coeff_gamma, distance_voisins[i])[3])\n",
    "    m_ABS=[1-coeff_ABS]\n",
    "    m_HIPS=[1-coeff_HIPS]\n",
    "    \n",
    "        \n",
    "\n",
    "\n"
   ]
  },
  {
   "cell_type": "code",
   "execution_count": 42,
   "metadata": {},
   "outputs": [
    {
     "name": "stdout",
     "output_type": "stream",
     "text": [
      "ABS\n",
      "PE\n",
      "PE\n",
      "HiPS\n",
      "PE\n"
     ]
    }
   ],
   "source": [
    "m_j(10000, len(X_train), y)"
   ]
  },
  {
   "cell_type": "code",
   "execution_count": null,
   "metadata": {},
   "outputs": [],
   "source": []
  }
 ],
 "metadata": {
  "kernelspec": {
   "display_name": "Python 3",
   "language": "python",
   "name": "python3"
  },
  "language_info": {
   "codemirror_mode": {
    "name": "ipython",
    "version": 3
   },
   "file_extension": ".py",
   "mimetype": "text/x-python",
   "name": "python",
   "nbconvert_exporter": "python",
   "pygments_lexer": "ipython3",
   "version": "3.11.6"
  }
 },
 "nbformat": 4,
 "nbformat_minor": 2
}
