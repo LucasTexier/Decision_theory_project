{
 "cells": [
  {
   "cell_type": "markdown",
   "metadata": {},
   "source": [
    "# Decision theory project"
   ]
  },
  {
   "cell_type": "code",
   "execution_count": 60,
   "metadata": {},
   "outputs": [],
   "source": [
    "# Imports for the whole labwork\n",
    "\n",
    "import numpy as np\n",
    "import pulp\n",
    "import pandas as pd\n",
    "import numpy as np \n",
    "from sklearn.ensemble import RandomForestClassifier\n",
    "from sklearn.model_selection import train_test_split\n",
    "from sklearn.svm import SVC\n",
    "from sklearn.neighbors import KNeighborsClassifier\n",
    "from scipy.spatial.distance import pdist, squareform\n",
    "from sklearn.metrics import confusion_matrix\n",
    "import seaborn as sns\n",
    "import matplotlib.pyplot as plt"
   ]
  },
  {
   "cell_type": "markdown",
   "metadata": {},
   "source": [
    "##  Tasks 1:  Determination of the value function "
   ]
  },
  {
   "cell_type": "markdown",
   "metadata": {},
   "source": [
    "### a. The DM gives his preferences by comparing each pair of alternatives following the Macbeth questioning procedure."
   ]
  },
  {
   "cell_type": "markdown",
   "metadata": {},
   "source": [
    "![Image](./matrice_DM.png)"
   ]
  },
  {
   "cell_type": "markdown",
   "metadata": {},
   "source": [
    "* The DM has given his preferences in this matrix with this scale of preferences : extrem, very strong, strong, moderate, weak, very weak, nul"
   ]
  },
  {
   "cell_type": "markdown",
   "metadata": {},
   "source": [
    "### b. The analyst checks with the DM possible (inconsistencies) in the preferences especially transitivity"
   ]
  },
  {
   "cell_type": "markdown",
   "metadata": {},
   "source": [
    "* The software ensures that the judgement is consistent and the transitivity is satisfied (manually verified)"
   ]
  },
  {
   "cell_type": "markdown",
   "metadata": {},
   "source": [
    "### c. If the binary relation representing the preferences is a weak order, then a value function exists to represent these preferences.\n"
   ]
  },
  {
   "cell_type": "markdown",
   "metadata": {},
   "source": [
    "* The binary relation is a weak order so a value function exists."
   ]
  },
  {
   "cell_type": "markdown",
   "metadata": {},
   "source": [
    "### d. Assess the value function (solving an optimization problem)."
   ]
  },
  {
   "cell_type": "markdown",
   "metadata": {},
   "source": [
    "* First, the scale is initialized :"
   ]
  },
  {
   "cell_type": "code",
   "execution_count": 61,
   "metadata": {},
   "outputs": [],
   "source": [
    "scale = {\n",
    "    0: \"Nulle\",\n",
    "    1: \"Very Weak\",\n",
    "    2: \"Weak\",\n",
    "    3: \"Moderate\",\n",
    "    4: \"Strong\",\n",
    "    5: \"Very Strong\"\n",
    "}"
   ]
  },
  {
   "cell_type": "markdown",
   "metadata": {},
   "source": [
    "* With that scale, the matrix of the DM is : "
   ]
  },
  {
   "cell_type": "code",
   "execution_count": 62,
   "metadata": {},
   "outputs": [],
   "source": [
    "#order of the social networks\n",
    "social_networks = [\"Sup\", \"Instagram\", \"LinkedIn\", \"X\", \"Facebook\", \"Tik Tok\", \"Inf\"]\n",
    "\n",
    "#-1 is used beacause it is a symetrical matrix\n",
    "DM_matrix=np.array([[0,3,4,4,4,6,6],\n",
    "                    [-1,0,3,4,4,5,5],\n",
    "                    [-1,-1,0,4,4,5,5],\n",
    "                    [-1,-1,-1,0,3,4,4],\n",
    "                    [-1,-1,-1,-1,0,4,4],\n",
    "                    [-1,-1,-1,-1,-1,0,2],\n",
    "                    [-1,-1,-1,-1,-1,-1,0]])"
   ]
  },
  {
   "cell_type": "code",
   "execution_count": 63,
   "metadata": {},
   "outputs": [],
   "source": [
    "'''\n",
    "Define a function which resolves the optimization problem from the DM_matrix to find value the function\n",
    "'''\n",
    "def find_value_function(DM_matrix):\n",
    "    # pulp solver is used\n",
    "    optimization_problem = pulp.LpProblem(\"Value_Function\", pulp.LpMinimize) #solving an optimization problem\n",
    "    values = pulp.LpVariable.dicts(\"Value\", range(len(DM_matrix)), lowBound=0)\n",
    "    optimization_problem += pulp.lpSum([values[i] for i in range(len(DM_matrix))]) \n",
    "\n",
    "    for i in range(len(DM_matrix)):\n",
    "        for j in range(len(DM_matrix[0])):\n",
    "            if DM_matrix[i][j] != -1: # to only treat the upper diagonal\n",
    "                optimization_problem += values[i] >= DM_matrix[i][j] + values[j]\n",
    "\n",
    "    #solve the probleme and recup the value of each class\n",
    "    optimization_problem.solve()\n",
    "    value_function = [pulp.value(values[i]) for i in range(len(DM_matrix))]\n",
    "\n",
    "    return value_function"
   ]
  },
  {
   "cell_type": "markdown",
   "metadata": {},
   "source": [
    "* Application on our matrix of social networks"
   ]
  },
  {
   "cell_type": "code",
   "execution_count": 64,
   "metadata": {},
   "outputs": [
    {
     "name": "stdout",
     "output_type": "stream",
     "text": [
      "Our final value function :\n",
      "['Sup', 'Instagram', 'LinkedIn', 'X', 'Facebook', 'Tik Tok', 'Inf']\n",
      "[19.0, 16.0, 13.0, 9.0, 6.0, 2.0, 0.0]\n"
     ]
    }
   ],
   "source": [
    "value_function = find_value_function(DM_matrix)\n",
    "\n",
    "print(\"Our final value function :\")\n",
    "print(social_networks)\n",
    "print(value_function)\n"
   ]
  },
  {
   "cell_type": "markdown",
   "metadata": {},
   "source": [
    "### e. A ranking can be established regarding the value obtained by each Social network."
   ]
  },
  {
   "cell_type": "markdown",
   "metadata": {},
   "source": [
    "Thanks to the value function, the ranking is :\n",
    "* 1. Instagram\n",
    "* 2. LinkedIn\n",
    "* 3. X \n",
    "* 4. Facebook\n",
    "* 5. Tik Tok"
   ]
  },
  {
   "cell_type": "markdown",
   "metadata": {},
   "source": [
    "## Tasks 2: Supervised classification using expected utility (application to plastics sorting problem)"
   ]
  },
  {
   "cell_type": "markdown",
   "metadata": {},
   "source": [
    "### a. Identify the utility function."
   ]
  },
  {
   "cell_type": "code",
   "execution_count": 207,
   "metadata": {},
   "outputs": [],
   "source": [
    "# Define the utility matrix based on recycling data\n",
    "\n",
    "utility_matrice = np.array([\n",
    "    [0.9, 0, 0, 0],  # PP\n",
    "    [0, 0.9, 0, 0],  # PE\n",
    "    [0.25, 0.25, 1, 0],  # ABS\n",
    "    [0.25, 0.25, 0.25, 1]   # HiPS\n",
    "])"
   ]
  },
  {
   "cell_type": "markdown",
   "metadata": {},
   "source": [
    "* The DM wants to reduce the errors in HiPS and ABS classification."
   ]
  },
  {
   "cell_type": "markdown",
   "metadata": {},
   "source": [
    "### b. Implement the expected utility model."
   ]
  },
  {
   "cell_type": "code",
   "execution_count": 187,
   "metadata": {},
   "outputs": [],
   "source": [
    "def EU(predicted, Pabs, Phips, Ppe, Ppp):\n",
    "    # Depending on the prediction, the probabilities are multiplied\n",
    "    if predicted == 'PP':\n",
    "        return (utility_matrice[0][0] * Ppp + utility_matrice[0][1] * Ppe + utility_matrice[0][2] * Pabs + utility_matrice[0][3] * Phips)\n",
    "    elif predicted == 'PE':\n",
    "        return (utility_matrice[1][0] * Ppp + utility_matrice[1][1] * Ppe + utility_matrice[1][2] * Pabs + utility_matrice[1][3] * Phips)\n",
    "    elif predicted == 'ABS':\n",
    "        return (utility_matrice[2][0] * Ppp + utility_matrice[2][1] * Ppe + utility_matrice[2][2] * Pabs + utility_matrice[2][3] * Phips)\n",
    "    elif predicted == 'Hips':\n",
    "        return (utility_matrice[3][0] * Ppp + utility_matrice[3][1] * Ppe + utility_matrice[3][2] * Pabs + utility_matrice[3][3] * Phips)\n",
    "    else:\n",
    "        return None"
   ]
  },
  {
   "cell_type": "code",
   "execution_count": 188,
   "metadata": {},
   "outputs": [],
   "source": [
    "'''\n",
    "    Choice function returns the class of the plastic using the expected utility\n",
    "    from probabilities given by a model.\n",
    "'''\n",
    "def Choice(Data_to_predict, model):\n",
    "    a = model.predict_proba(Data_to_predict)  # Use predict_proba to get probabilities from the model\n",
    "\n",
    "    # multiplication with the EU function \n",
    "    act1 = EU('ABS', a[0][0], a[0][1], a[0][2], a[0][3])\n",
    "    act2 = EU('HiPS', a[0][0], a[0][1], a[0][2], a[0][3])\n",
    "    act3 = EU('PE', a[0][0], a[0][1], a[0][2], a[0][3])\n",
    "    act4 = EU('PP', a[0][0], a[0][1], a[0][2], a[0][3])\n",
    "\n",
    "\n",
    "    #set the probability at 0 if the value is None\n",
    "    v = [act if act is not None else 0 for act in [act1, act2, act3, act4]]\n",
    "\n",
    "    #return the class with the highest float\n",
    "    max_index = v.index(max(v))\n",
    "    plastic = ['ABS', 'HiPS', 'PE', 'PP']\n",
    "\n",
    "    return plastic[max_index] "
   ]
  },
  {
   "cell_type": "markdown",
   "metadata": {},
   "source": [
    "### c. Test your algorithm on the validation data of plastics (split your data into train and validation).\n"
   ]
  },
  {
   "cell_type": "markdown",
   "metadata": {},
   "source": [
    "* Data importation"
   ]
  },
  {
   "cell_type": "code",
   "execution_count": 189,
   "metadata": {},
   "outputs": [],
   "source": [
    "X = pd.read_csv('./PlasticsTrain.csv',sep=';')\n",
    "\n",
    "X.drop(['line', 'column', 'object'], axis=1, inplace=True)\n",
    "\n",
    "# target column\n",
    "Y = X['class']\n",
    "\n",
    "# whole dataset\n",
    "big_df = X\n",
    "\n",
    "# X columns\n",
    "X.drop('class',axis = 1, inplace=True)\n",
    "\n",
    "#replace , to .\n",
    "X = X[X.columns].apply(lambda x: x.str.replace(',', '.')).astype(float)\n",
    "\n",
    "#split into train & test\n",
    "X_train, X_test, y_train, y_test = train_test_split(X, Y, test_size=0.2)"
   ]
  },
  {
   "cell_type": "code",
   "execution_count": 190,
   "metadata": {},
   "outputs": [
    {
     "data": {
      "text/html": [
       "<div>\n",
       "<style scoped>\n",
       "    .dataframe tbody tr th:only-of-type {\n",
       "        vertical-align: middle;\n",
       "    }\n",
       "\n",
       "    .dataframe tbody tr th {\n",
       "        vertical-align: top;\n",
       "    }\n",
       "\n",
       "    .dataframe thead th {\n",
       "        text-align: right;\n",
       "    }\n",
       "</style>\n",
       "<table border=\"1\" class=\"dataframe\">\n",
       "  <thead>\n",
       "    <tr style=\"text-align: right;\">\n",
       "      <th></th>\n",
       "      <th>3687cm-1</th>\n",
       "      <th>3665cm-1</th>\n",
       "      <th>3642cm-1</th>\n",
       "      <th>3620cm-1</th>\n",
       "      <th>3598cm-1</th>\n",
       "      <th>3577cm-1</th>\n",
       "      <th>3555cm-1</th>\n",
       "      <th>3534cm-1</th>\n",
       "      <th>3514cm-1</th>\n",
       "      <th>3493cm-1</th>\n",
       "      <th>...</th>\n",
       "      <th>1952cm-1</th>\n",
       "      <th>1945cm-1</th>\n",
       "      <th>1939cm-1</th>\n",
       "      <th>1933cm-1</th>\n",
       "      <th>1927cm-1</th>\n",
       "      <th>1920cm-1</th>\n",
       "      <th>1914cm-1</th>\n",
       "      <th>1908cm-1</th>\n",
       "      <th>1902cm-1</th>\n",
       "      <th>1896cm-1</th>\n",
       "    </tr>\n",
       "  </thead>\n",
       "  <tbody>\n",
       "    <tr>\n",
       "      <th>0</th>\n",
       "      <td>-1.996200</td>\n",
       "      <td>-1.964828</td>\n",
       "      <td>-1.988133</td>\n",
       "      <td>-1.997992</td>\n",
       "      <td>-1.997096</td>\n",
       "      <td>-1.981858</td>\n",
       "      <td>-1.981858</td>\n",
       "      <td>-1.936146</td>\n",
       "      <td>-1.954073</td>\n",
       "      <td>-1.906568</td>\n",
       "      <td>...</td>\n",
       "      <td>-0.316504</td>\n",
       "      <td>-0.440196</td>\n",
       "      <td>-0.534309</td>\n",
       "      <td>-0.544168</td>\n",
       "      <td>-0.590777</td>\n",
       "      <td>-0.719846</td>\n",
       "      <td>-0.787070</td>\n",
       "      <td>-0.762869</td>\n",
       "      <td>-0.775418</td>\n",
       "      <td>-0.800515</td>\n",
       "    </tr>\n",
       "    <tr>\n",
       "      <th>1</th>\n",
       "      <td>-1.931995</td>\n",
       "      <td>-1.932870</td>\n",
       "      <td>-1.952113</td>\n",
       "      <td>-2.006342</td>\n",
       "      <td>-1.984475</td>\n",
       "      <td>-1.968731</td>\n",
       "      <td>-1.966982</td>\n",
       "      <td>-1.936369</td>\n",
       "      <td>-1.910129</td>\n",
       "      <td>-1.862897</td>\n",
       "      <td>...</td>\n",
       "      <td>-0.297249</td>\n",
       "      <td>-0.419702</td>\n",
       "      <td>-0.552651</td>\n",
       "      <td>-0.557899</td>\n",
       "      <td>-0.564896</td>\n",
       "      <td>-0.691723</td>\n",
       "      <td>-0.766069</td>\n",
       "      <td>-0.753824</td>\n",
       "      <td>-0.752949</td>\n",
       "      <td>-0.782688</td>\n",
       "    </tr>\n",
       "    <tr>\n",
       "      <th>2</th>\n",
       "      <td>-1.933060</td>\n",
       "      <td>-1.932180</td>\n",
       "      <td>-1.973558</td>\n",
       "      <td>-1.946266</td>\n",
       "      <td>-1.983243</td>\n",
       "      <td>-1.965635</td>\n",
       "      <td>-1.948907</td>\n",
       "      <td>-1.926897</td>\n",
       "      <td>-1.904007</td>\n",
       "      <td>-1.871432</td>\n",
       "      <td>...</td>\n",
       "      <td>-0.247100</td>\n",
       "      <td>-0.328977</td>\n",
       "      <td>-0.444309</td>\n",
       "      <td>-0.450472</td>\n",
       "      <td>-0.481286</td>\n",
       "      <td>-0.615986</td>\n",
       "      <td>-0.659126</td>\n",
       "      <td>-0.630953</td>\n",
       "      <td>-0.650322</td>\n",
       "      <td>-0.660887</td>\n",
       "    </tr>\n",
       "    <tr>\n",
       "      <th>3</th>\n",
       "      <td>-1.811951</td>\n",
       "      <td>-1.808491</td>\n",
       "      <td>-1.861257</td>\n",
       "      <td>-1.894992</td>\n",
       "      <td>-1.918348</td>\n",
       "      <td>-1.889802</td>\n",
       "      <td>-1.871637</td>\n",
       "      <td>-1.877692</td>\n",
       "      <td>-1.869907</td>\n",
       "      <td>-1.818871</td>\n",
       "      <td>...</td>\n",
       "      <td>-0.139874</td>\n",
       "      <td>-0.202155</td>\n",
       "      <td>-0.324123</td>\n",
       "      <td>-0.311147</td>\n",
       "      <td>-0.333638</td>\n",
       "      <td>-0.436575</td>\n",
       "      <td>-0.489341</td>\n",
       "      <td>-0.483286</td>\n",
       "      <td>-0.457335</td>\n",
       "      <td>-0.471175</td>\n",
       "    </tr>\n",
       "    <tr>\n",
       "      <th>4</th>\n",
       "      <td>-1.911310</td>\n",
       "      <td>-1.917137</td>\n",
       "      <td>-1.959097</td>\n",
       "      <td>-1.969587</td>\n",
       "      <td>-1.960263</td>\n",
       "      <td>-1.962594</td>\n",
       "      <td>-1.948607</td>\n",
       "      <td>-1.936952</td>\n",
       "      <td>-1.913641</td>\n",
       "      <td>-1.849535</td>\n",
       "      <td>...</td>\n",
       "      <td>-0.295847</td>\n",
       "      <td>-0.386761</td>\n",
       "      <td>-0.477674</td>\n",
       "      <td>-0.528959</td>\n",
       "      <td>-0.559263</td>\n",
       "      <td>-0.676984</td>\n",
       "      <td>-0.722441</td>\n",
       "      <td>-0.711951</td>\n",
       "      <td>-0.724772</td>\n",
       "      <td>-0.753911</td>\n",
       "    </tr>\n",
       "  </tbody>\n",
       "</table>\n",
       "<p>5 rows × 154 columns</p>\n",
       "</div>"
      ],
      "text/plain": [
       "   3687cm-1  3665cm-1  3642cm-1  3620cm-1  3598cm-1  3577cm-1  3555cm-1  \\\n",
       "0 -1.996200 -1.964828 -1.988133 -1.997992 -1.997096 -1.981858 -1.981858   \n",
       "1 -1.931995 -1.932870 -1.952113 -2.006342 -1.984475 -1.968731 -1.966982   \n",
       "2 -1.933060 -1.932180 -1.973558 -1.946266 -1.983243 -1.965635 -1.948907   \n",
       "3 -1.811951 -1.808491 -1.861257 -1.894992 -1.918348 -1.889802 -1.871637   \n",
       "4 -1.911310 -1.917137 -1.959097 -1.969587 -1.960263 -1.962594 -1.948607   \n",
       "\n",
       "   3534cm-1  3514cm-1  3493cm-1  ...  1952cm-1  1945cm-1  1939cm-1  1933cm-1  \\\n",
       "0 -1.936146 -1.954073 -1.906568  ... -0.316504 -0.440196 -0.534309 -0.544168   \n",
       "1 -1.936369 -1.910129 -1.862897  ... -0.297249 -0.419702 -0.552651 -0.557899   \n",
       "2 -1.926897 -1.904007 -1.871432  ... -0.247100 -0.328977 -0.444309 -0.450472   \n",
       "3 -1.877692 -1.869907 -1.818871  ... -0.139874 -0.202155 -0.324123 -0.311147   \n",
       "4 -1.936952 -1.913641 -1.849535  ... -0.295847 -0.386761 -0.477674 -0.528959   \n",
       "\n",
       "   1927cm-1  1920cm-1  1914cm-1  1908cm-1  1902cm-1  1896cm-1  \n",
       "0 -0.590777 -0.719846 -0.787070 -0.762869 -0.775418 -0.800515  \n",
       "1 -0.564896 -0.691723 -0.766069 -0.753824 -0.752949 -0.782688  \n",
       "2 -0.481286 -0.615986 -0.659126 -0.630953 -0.650322 -0.660887  \n",
       "3 -0.333638 -0.436575 -0.489341 -0.483286 -0.457335 -0.471175  \n",
       "4 -0.559263 -0.676984 -0.722441 -0.711951 -0.724772 -0.753911  \n",
       "\n",
       "[5 rows x 154 columns]"
      ]
     },
     "execution_count": 190,
     "metadata": {},
     "output_type": "execute_result"
    }
   ],
   "source": [
    "X.head()"
   ]
  },
  {
   "cell_type": "code",
   "execution_count": 191,
   "metadata": {},
   "outputs": [
    {
     "data": {
      "text/plain": [
       "array(['ABS', 'HiPS', 'PE', 'PP'], dtype=object)"
      ]
     },
     "execution_count": 191,
     "metadata": {},
     "output_type": "execute_result"
    }
   ],
   "source": [
    "Y.unique()"
   ]
  },
  {
   "cell_type": "code",
   "execution_count": 208,
   "metadata": {},
   "outputs": [
    {
     "name": "stdout",
     "output_type": "stream",
     "text": [
      "Score without expected utility :  0.908337396392004\n"
     ]
    }
   ],
   "source": [
    "rf_model = RandomForestClassifier()\n",
    "rf_model.fit(X_train,y_train)\n",
    "y_pred = rf_model.predict(X_test)\n",
    "\n",
    "score = rf_model.score(X_test,y_test)\n",
    "print('Score without expected utility : ',score)"
   ]
  },
  {
   "cell_type": "code",
   "execution_count": 193,
   "metadata": {},
   "outputs": [
    {
     "data": {
      "text/plain": [
       "Text(0.5, 1.0, 'Confusion Matrix Random Forest')"
      ]
     },
     "execution_count": 193,
     "metadata": {},
     "output_type": "execute_result"
    },
    {
     "data": {
      "image/png": "[encoded data removed]",
      "text/plain": [
       "<Figure size 640x480 with 2 Axes>"
      ]
     },
     "metadata": {},
     "output_type": "display_data"
    }
   ],
   "source": [
    "conf_matrix = confusion_matrix(y_test, y_pred)\n",
    "\n",
    "# Display the confusion matrix\n",
    "sns.heatmap(conf_matrix, annot=True, fmt=\"d\", cmap=\"Blues\", xticklabels=['ABS', 'HiPS', 'PE', 'PP'], yticklabels=['ABS', 'HiPS', 'PE', 'PP'])\n",
    "plt.xlabel(\"predicted\")\n",
    "plt.ylabel(\"real\")\n",
    "plt.title(\"Confusion Matrix Random Forest\")"
   ]
  },
  {
   "cell_type": "markdown",
   "metadata": {},
   "source": [
    "* Use the Expected Utility"
   ]
  },
  {
   "cell_type": "code",
   "execution_count": 194,
   "metadata": {},
   "outputs": [],
   "source": [
    "def EU_algo(model):\n",
    "    accuracy_score = 0\n",
    "    predictions = []  # Liste pour stocker les prédictions\n",
    "    for i in range(len(X_test)):\n",
    "        to_test = X_test.iloc[i:i+1]\n",
    "        predicted = Choice(to_test, model)\n",
    "        predictions.append(predicted)\n",
    "        if predicted == y_test.iloc[i]:\n",
    "            accuracy_score += 1\n",
    "    return accuracy_score, predictions"
   ]
  },
  {
   "cell_type": "code",
   "execution_count": 209,
   "metadata": {},
   "outputs": [
    {
     "name": "stdout",
     "output_type": "stream",
     "text": [
      "Score with expected utility with random forest: 0.6552901023890785\n"
     ]
    }
   ],
   "source": [
    "accuracy_eu_rf, predictions_rf = EU_algo(rf_model)\n",
    "print('Score with expected utility with random forest:', accuracy_eu_rf / len(y_test))"
   ]
  },
  {
   "cell_type": "code",
   "execution_count": 210,
   "metadata": {},
   "outputs": [
    {
     "data": {
      "image/png": "[encoded data removed]",
      "text/plain": [
       "<Figure size 640x480 with 2 Axes>"
      ]
     },
     "metadata": {},
     "output_type": "display_data"
    }
   ],
   "source": [
    "conf_matrix_eu_rf = confusion_matrix(y_test, predictions_rf)\n",
    "\n",
    "#plot the confusion matrix\n",
    "sns.heatmap(conf_matrix_eu_rf, annot=True, fmt=\"d\", cmap=\"Blues\", xticklabels=['ABS', 'HiPS', 'PE', 'PP'], yticklabels=['ABS', 'HiPS', 'PE', 'PP'])\n",
    "plt.xlabel(\"predicted\")\n",
    "plt.ylabel(\"real\")\n",
    "plt.title(\"Random forest with expected utility\")\n",
    "plt.show()"
   ]
  },
  {
   "cell_type": "markdown",
   "metadata": {},
   "source": [
    "### d. Compare the performances of your algorithm using several classical prediction algorithms on the test plastic data (hidden at the moment)."
   ]
  },
  {
   "cell_type": "markdown",
   "metadata": {},
   "source": [
    "* Using 2 other models"
   ]
  },
  {
   "cell_type": "code",
   "execution_count": 109,
   "metadata": {},
   "outputs": [
    {
     "name": "stdout",
     "output_type": "stream",
     "text": [
      "Score with expected utility with SVM :  0.035592393954168695\n",
      "Score with expected utility with KNN :  0.03900536323744515\n"
     ]
    }
   ],
   "source": [
    "svm_model = SVC(probability=True)\n",
    "knn_model = KNeighborsClassifier()\n",
    "\n",
    "svm_model.fit(X_train, y_train)\n",
    "knn_model.fit(X_train, y_train)\n",
    "\n",
    "accuracy_eu_svm, pred = EU_algo(svm_model)\n",
    "accuracy_eu_knn, pred = EU_algo(knn_model)\n",
    "\n",
    "print('Score with expected utility with SVM : ', accuracy_eu_svm/len(y_test))\n",
    "print('Score with expected utility with KNN : ', accuracy_eu_knn/len(y_test))"
   ]
  },
  {
   "cell_type": "markdown",
   "metadata": {},
   "source": [
    "* The knn classifier seems to give the best results"
   ]
  },
  {
   "cell_type": "markdown",
   "metadata": {},
   "source": [
    "## Tasks 3: Supervised classification using evidential KNN (application to plastics sorting problem)"
   ]
  },
  {
   "cell_type": "markdown",
   "metadata": {},
   "source": [
    "### a. Identify the utility function."
   ]
  },
  {
   "cell_type": "markdown",
   "metadata": {},
   "source": [
    "For this question, we keep the same utility function than the Task 2."
   ]
  },
  {
   "cell_type": "code",
   "execution_count": 123,
   "metadata": {},
   "outputs": [],
   "source": [
    "import pandas as pd\n",
    "import numpy as np\n",
    "\n",
    "utility_matrix = np.array([[1, 0.25, 0.5, 0.75],\n",
    "                          [0.75, 1, 0.25, 0.5],\n",
    "                          [0.5, 0.75, 1, 0.25],\n",
    "                          [0.25, 0.5, 0.75, 1]])\n",
    "\n",
    "classe = ['ABS', 'HiPS', 'PE', 'PP', 'THETA']"
   ]
  },
  {
   "cell_type": "markdown",
   "metadata": {},
   "source": [
    "### b. Implement eknn.\n"
   ]
  },
  {
   "cell_type": "markdown",
   "metadata": {},
   "source": [
    "* The train and test datasets are the same than Task 2."
   ]
  },
  {
   "cell_type": "markdown",
   "metadata": {},
   "source": [
    "Then, the dist_matrix is created : it permits to know all the Euclidean distances between X_i and X_j"
   ]
  },
  {
   "cell_type": "code",
   "execution_count": 124,
   "metadata": {},
   "outputs": [],
   "source": [
    "# Distances\n",
    "newDF = pd.concat([X_train, X_test])\n",
    "\n",
    "# Convertir toutes les colonnes en float\n",
    "newDF = newDF.replace(',', '.', regex=True)\n",
    "newDF = newDF.astype(float)\n",
    "\n",
    "distances = pdist(newDF.values, metric='euclidean')\n",
    "dist_matrix = squareform(distances)"
   ]
  },
  {
   "cell_type": "code",
   "execution_count": 118,
   "metadata": {},
   "outputs": [],
   "source": [
    "'''\n",
    "    fit_gamma permits to get the list of the coefficients [gamma_1, ..., gamma_n]\n",
    "    coefficients are fitted with the training dataset\n",
    "'''\n",
    "def fit_gamma(train_label, dist, classes):\n",
    "    gamma = []\n",
    "    nbC = len(classes)\n",
    "    for i in range(nbC-1):\n",
    "        C_indices = [t for t in range(len(train_label)) if (train_label[t] == classes[i])]\n",
    "        C_dist = []\n",
    "        for ci in range(len(C_indices)):\n",
    "            for cj in range(ci + 1, len(C_indices)):\n",
    "                C_dist.append(dist[C_indices[ci]][C_indices[cj]])\n",
    "        gamma.append(1 / np.mean(C_dist))\n",
    "    return gamma"
   ]
  },
  {
   "cell_type": "code",
   "execution_count": 93,
   "metadata": {},
   "outputs": [
    {
     "name": "stdout",
     "output_type": "stream",
     "text": [
      "[0.3822991405629782, 0.3723211618324772, 0.2142873527831586, 0.19209598569774933]\n"
     ]
    }
   ],
   "source": [
    "# Observing the result\n",
    "coeff_gamma = fit_gamma(y_train.values, dist_matrix, classe)\n",
    "print(coeff_gamma)"
   ]
  },
  {
   "cell_type": "markdown",
   "metadata": {},
   "source": [
    "The parameter phi = [phi_1, ..., phi_n] is calculated thanks to the choice : phi_i(d) = alpha exp(-gamma *d ^ 2)."
   ]
  },
  {
   "cell_type": "code",
   "execution_count": 94,
   "metadata": {},
   "outputs": [],
   "source": [
    "#we fix alpha = 0.95\n",
    "def phi(gamma, d, alpha=0.95):\n",
    "    return [alpha*np.exp(-gamma[i]*d**2) for i in range(len(gamma))]"
   ]
  },
  {
   "cell_type": "code",
   "execution_count": 95,
   "metadata": {},
   "outputs": [],
   "source": [
    "''' \n",
    "    voisins is a function which returns the index of the k nearest neighbours from train dataset of a vector X. \n",
    "'''\n",
    "\n",
    "def voisins(index, train_size, y, k):\n",
    "    index_sort = np.argsort(dist_matrix[index])\n",
    "    indice_voisins = []\n",
    "\n",
    "    iteration = 1\n",
    "    while len(indice_voisins) < k:\n",
    "        # only index from the training set\n",
    "        if(index_sort[iteration]<train_size):\n",
    "            indice_voisins.append(index_sort[iteration])    \n",
    "        iteration += 1\n",
    "\n",
    "    distance_voisins = dist_matrix[index, indice_voisins]\n",
    "    classes = y[indice_voisins]\n",
    "    \n",
    "    return indice_voisins, distance_voisins, classes"
   ]
  },
  {
   "cell_type": "code",
   "execution_count": 105,
   "metadata": {},
   "outputs": [],
   "source": [
    "'''\n",
    "    m_j compute the piece of evidence and combine the mass functions mj(.|x) using Dempster s rule\n",
    "    It returns a list associated with each class\n",
    "'''\n",
    "\n",
    "def m_j(index, train_size, y, k):\n",
    "    #collect the information of the neighbours\n",
    "    indice_voisins, distance_voisins, classes = voisins(index, train_size, y, k)\n",
    "\n",
    "    # init coeff_ABS \n",
    "    coeff_ABS, coeff_HIPS, coeff_PE, coeff_PP = 1, 1, 1, 1\n",
    "\n",
    "    # compute the numerator of the coefficients of each classes\n",
    "    for i in range(len(indice_voisins)) :\n",
    "        current_class = str(classes.iloc[i])\n",
    "        if current_class == 'ABS':\n",
    "            coeff_ABS *= (1- phi(coeff_gamma, distance_voisins[i])[0])\n",
    "        elif current_class == 'HiPS':\n",
    "            coeff_HIPS *= (1- phi(coeff_gamma, distance_voisins[i])[1])\n",
    "        elif current_class == 'PE':\n",
    "            coeff_PE *= (1- phi(coeff_gamma, distance_voisins[i])[2])\n",
    "        elif current_class == 'PP':\n",
    "            coeff_PP *= (1- phi(coeff_gamma, distance_voisins[i])[3])\n",
    "    \n",
    "    # calcul the fourth m_i(A|X) = [A=theta_i, A!=theta_i]\n",
    "    m_ABS=[1-coeff_ABS, coeff_ABS]\n",
    "    m_HIPS=[1-coeff_HIPS, coeff_HIPS]\n",
    "    m_PE=[1-coeff_PE, coeff_PE]\n",
    "    m_PP=[1-coeff_PP, coeff_PP]\n",
    "\n",
    "    m_j =  np.array([m_ABS, m_HIPS, m_PE, m_PP])\n",
    "\n",
    "    # normalization coeff to compute m \n",
    "    product = np.prod(m_j) # empty prediction\n",
    "    sum = 0\n",
    "    for i in range(4):\n",
    "        sum += m_j[i][0]*m_j[(i+1)%4][1]*m_j[(i+2)%4][1]*m_j[(i+3)%4][1]\n",
    "    n_factor = product + sum\n",
    "\n",
    "    # calcul m = [m({ABS}), m({HIPS}), m({PE}), m({PP}), m(THETA)]\n",
    "    m = np.zeros(4)\n",
    "    for i in range(4):\n",
    "        m[i] = ( m_j[i][0]*m_j[(i+1)%4][1]*m_j[(i+2)%4][1]*m_j[(i+3)%4][1] ) / n_factor\n",
    "\n",
    "    # m[4] = 0 # we force the classifier to choose one class\n",
    "    return m"
   ]
  },
  {
   "cell_type": "markdown",
   "metadata": {},
   "source": [
    "Then, the variables permit computing eknn"
   ]
  },
  {
   "cell_type": "code",
   "execution_count": 108,
   "metadata": {},
   "outputs": [],
   "source": [
    "'''\n",
    "    EKNN uses the pignistic probability and predicts the class.\n",
    "    It returns the prediction and the real value\n",
    "'''\n",
    "def eknn(index, train_size, y, k):\n",
    "\n",
    "    # Considering k neightbours\n",
    "    index_voisins, _ , _ = voisins(index, train_size, y, k)\n",
    "    \n",
    "    # Compute pignistic probability (BetP)\n",
    "    betp = np.zeros(4)  \n",
    "    \n",
    "    #add each mass associated at each neightbour and divide by the size (k)\n",
    "    for j in range(len(index_voisins)):\n",
    "        betp += m_j(index_voisins[j], train_size, y, k)\n",
    "        \n",
    "    #betp[4] /= 4 # |THETA|=4\n",
    "    \n",
    "    indice_classe_pred = np.argsort(betp)[0]\n",
    "    \n",
    "    classe_pred = classe[indice_classe_pred]\n",
    "    \n",
    "    return classe_pred, y[index]"
   ]
  },
  {
   "cell_type": "code",
   "execution_count": 109,
   "metadata": {},
   "outputs": [],
   "source": [
    "pred, real = eknn(10029, len(X_train), y, 4)"
   ]
  },
  {
   "cell_type": "code",
   "execution_count": 110,
   "metadata": {},
   "outputs": [
    {
     "data": {
      "text/plain": [
       "('PP', 'PP')"
      ]
     },
     "execution_count": 110,
     "metadata": {},
     "output_type": "execute_result"
    }
   ],
   "source": [
    "pred, real"
   ]
  },
  {
   "cell_type": "code",
   "execution_count": 114,
   "metadata": {},
   "outputs": [],
   "source": [
    "#Try the EKNN with 10 neightbours\n",
    "\n",
    "true = 0\n",
    "false = 0\n",
    "k = 10\n",
    "for i in range(len(X_train), len(big_df)):\n",
    "    pred, expected = eknn(i, len(X_train), Y, k)\n",
    "    if pred == expected :\n",
    "        true += 1\n",
    "    else :\n",
    "        false += 1"
   ]
  },
  {
   "cell_type": "code",
   "execution_count": 115,
   "metadata": {},
   "outputs": [
    {
     "name": "stdout",
     "output_type": "stream",
     "text": [
      "0.9205265724037055\n"
     ]
    }
   ],
   "source": [
    "print(true/ (len(big_df)-len(X_train)))"
   ]
  },
  {
   "cell_type": "markdown",
   "metadata": {},
   "source": [
    "The accuracy is around 93% with 10 neighbours"
   ]
  },
  {
   "cell_type": "code",
   "execution_count": 125,
   "metadata": {},
   "outputs": [
    {
     "ename": "IndexError",
     "evalue": "index 15 is out of bounds for axis 0 with size 11",
     "output_type": "error",
     "traceback": [
      "\u001b[1;31m---------------------------------------------------------------------------\u001b[0m",
      "\u001b[1;31mIndexError\u001b[0m                                Traceback (most recent call last)",
      "\u001b[1;32mc:\\Users\\33695\\Documents\\github\\Decision_theory_project\\Decision_theory.ipynb Cell 58\u001b[0m line \u001b[0;36m1\n\u001b[0;32m     <a href='vscode-notebook-cell:/c%3A/Users/33695/Documents/github/Decision_theory_project/Decision_theory.ipynb#X32sZmlsZQ%3D%3D?line=11'>12</a>\u001b[0m     \u001b[39melse\u001b[39;00m :\n\u001b[0;32m     <a href='vscode-notebook-cell:/c%3A/Users/33695/Documents/github/Decision_theory_project/Decision_theory.ipynb#X32sZmlsZQ%3D%3D?line=12'>13</a>\u001b[0m         false \u001b[39m+\u001b[39m\u001b[39m=\u001b[39m \u001b[39m1\u001b[39m\n\u001b[1;32m---> <a href='vscode-notebook-cell:/c%3A/Users/33695/Documents/github/Decision_theory_project/Decision_theory.ipynb#X32sZmlsZQ%3D%3D?line=13'>14</a>\u001b[0m accuracy[k] \u001b[39m=\u001b[39m true \u001b[39m/\u001b[39m (\u001b[39mlen\u001b[39m(big_df) \u001b[39m-\u001b[39m \u001b[39mlen\u001b[39m(X_train))\n",
      "\u001b[1;31mIndexError\u001b[0m: index 15 is out of bounds for axis 0 with size 11"
     ]
    }
   ],
   "source": [
    "X = [1, 2, 3, 4, 5, 10, 15, 20, 25, 35, 50]\n",
    "accuracy= np.zeros(len(X))\n",
    "\n",
    "for k in range(len(X)):\n",
    "    true = 0\n",
    "    false = 0\n",
    "    k = X[k]\n",
    "    for i in range(len(X_train), len(big_df)):\n",
    "        pred, expected = eknn(i, len(X_train), y, k)\n",
    "        if pred == expected :\n",
    "            true += 1\n",
    "        else :\n",
    "            false += 1\n",
    "    accuracy[k] = true / (len(big_df) - len(X_train))"
   ]
  },
  {
   "cell_type": "markdown",
   "metadata": {},
   "source": [
    "Observing the evolution of accuracy with differents value of k"
   ]
  },
  {
   "cell_type": "code",
   "execution_count": null,
   "metadata": {},
   "outputs": [],
   "source": [
    "import matplotlib.pyplot as plt\n",
    "\n",
    "plt.figure()\n",
    "plt.xlabel(\"Evolution of k\")\n",
    "plt.ylabel(\"Accuracy\")\n",
    "plt.title(\"Evolution of accuracy according to k\")\n",
    "plt.plot()"
   ]
  },
  {
   "cell_type": "markdown",
   "metadata": {},
   "source": [
    "### c. Implement the expected utility model with eknn."
   ]
  },
  {
   "cell_type": "code",
   "execution_count": 120,
   "metadata": {},
   "outputs": [],
   "source": [
    "'''\n",
    "    EKNN algorithm with expected utility.\n",
    "'''\n",
    "\n",
    "def EU_eknn(index, train_size, y, k):\n",
    "\n",
    "    index_voisins, _, _ = voisins(index, train_size, y, k)\n",
    "    \n",
    "    betp = np.zeros(4)\n",
    "    \n",
    "    for j in range(len(index_voisins)):\n",
    "        betp += m_j(index_voisins[j], train_size, y, k)\n",
    "    \n",
    "    # Compute expected utility\n",
    "    expected_utility = np.dot(betp, np.dot(utility_matrix, betp))\n",
    "    \n",
    "    indice_classe_pred = np.argmax(betp)\n",
    "    classe_pred = classe[indice_classe_pred]\n",
    "    \n",
    "    return classe_pred, y[index], expected_utility"
   ]
  },
  {
   "cell_type": "code",
   "execution_count": 122,
   "metadata": {},
   "outputs": [
    {
     "name": "stdout",
     "output_type": "stream",
     "text": [
      "Accuracy: 0.0\n",
      "Average Expected Utility: 76.60754829168407\n"
     ]
    }
   ],
   "source": [
    "true = 0\n",
    "false = 0\n",
    "total_utility = 0\n",
    "k = 10\n",
    "for i in range(len(X_train), len(big_df)):\n",
    "    pred, expected, utility = EU_eknn(i, len(X_train), Y, k)\n",
    "    total_utility += utility\n",
    "    if pred == expected:\n",
    "        true += 1\n",
    "    else:\n",
    "        false += 1\n",
    "\n",
    "accuracy = true / (true + false)\n",
    "average_utility = total_utility / (true + false)\n",
    "\n",
    "print('Accuracy:', accuracy)"
   ]
  }
 ],
 "metadata": {
  "kernelspec": {
   "display_name": "Python 3",
   "language": "python",
   "name": "python3"
  },
  "language_info": {
   "codemirror_mode": {
    "name": "ipython",
    "version": 3
   },
   "file_extension": ".py",
   "mimetype": "text/x-python",
   "name": "python",
   "nbconvert_exporter": "python",
   "pygments_lexer": "ipython3",
   "version": "3.11.6"
  }
 },
 "nbformat": 4,
 "nbformat_minor": 2
}
