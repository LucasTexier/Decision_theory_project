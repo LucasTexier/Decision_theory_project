{
 "cells": [
  {
   "cell_type": "markdown",
   "metadata": {},
   "source": [
    "# Decision theory project"
   ]
  },
  {
   "cell_type": "code",
   "execution_count": 3,
   "metadata": {},
   "outputs": [],
   "source": [
    "import pandas as pd\n",
    "import numpy as np\n",
    "from scipy.spatial.distance import pdist, squareform\n",
    "from sklearn.model_selection import train_test_split"
   ]
  },
  {
   "cell_type": "code",
   "execution_count": 81,
   "metadata": {},
   "outputs": [],
   "source": [
    "# Create train and test datasets\n",
    "data = pd.read_csv(\"./PlasticsTrain.csv\", sep=\";\")\n",
    "\n",
    "y = data[\"class\"]\n",
    "X = data.drop([\"class\", \"line\", \"column\", \"object\"], axis=1)\n",
    "\n",
    "X_train, X_test, y_train, y_test = train_test_split(X, y, train_size=0.8)\n",
    "\n",
    "classe = ['ABS', 'HIPS', 'PE', 'PP']"
   ]
  },
  {
   "cell_type": "code",
   "execution_count": 82,
   "metadata": {},
   "outputs": [],
   "source": [
    "# Distances\n",
    "newDF = pd.concat([X_train, X_test])\n",
    "\n",
    "# Convertir toutes les colonnes en float\n",
    "newDF = newDF.replace(',', '.', regex=True)\n",
    "newDF = newDF.astype(float)\n",
    "\n",
    "distances = pdist(newDF.values, metric='euclidean')\n",
    "dist_matrix = squareform(distances)"
   ]
  },
  {
   "cell_type": "code",
   "execution_count": 84,
   "metadata": {},
   "outputs": [],
   "source": [
    "def fit_gamma(train_label, dist, classes):\n",
    "    gamma = []\n",
    "    nbC = len(classes)\n",
    "    for i in range(nbC):\n",
    "        C_indices = [t for t in range(len(train_label)) if (train_label.iloc[t] == classes[i])]\n",
    "        C_dist = []\n",
    "        for ci in range(len(C_indices)):\n",
    "            for cj in range(ci + 1, len(C_indices)):\n",
    "                C_dist.append(dist[C_indices[ci]][C_indices[cj]])\n",
    "        gamma.append(1 / np.mean(C_dist) if len(C_dist) > 0 else np.nan)\n",
    "    return gamma"
   ]
  },
  {
   "cell_type": "code",
   "execution_count": 86,
   "metadata": {},
   "outputs": [],
   "source": [
    "label = X.columns\n",
    "\n",
    "coeff_gamma = fit_gamma(y_train, dist_matrix, classe)"
   ]
  },
  {
   "cell_type": "code",
   "execution_count": 87,
   "metadata": {},
   "outputs": [
    {
     "data": {
      "text/plain": [
       "[0.3807849377993026, nan, 0.21556149380000975, 0.19077490914257633]"
      ]
     },
     "execution_count": 87,
     "metadata": {},
     "output_type": "execute_result"
    }
   ],
   "source": [
    "#We have the coefficients gamma_i for each class\n",
    "coeff_gamma"
   ]
  },
  {
   "cell_type": "code",
   "execution_count": 88,
   "metadata": {},
   "outputs": [],
   "source": [
    "#define coefficient phi and we fix alpha = 0.95\n",
    "def phi(gamma, d, alpha=0.95):\n",
    "    return [alpha*np.exp(-gamma[i]*d**2) for i in range(len(gamma))]"
   ]
  },
  {
   "cell_type": "code",
   "execution_count": 89,
   "metadata": {},
   "outputs": [
    {
     "data": {
      "text/plain": [
       "[0.0021466381770633503, nan, 0.03018901401298609, 0.04488319454188748]"
      ]
     },
     "execution_count": 89,
     "metadata": {},
     "output_type": "execute_result"
    }
   ],
   "source": [
    "phi(coeff_gamma, 4)"
   ]
  },
  {
   "cell_type": "code",
   "execution_count": 90,
   "metadata": {},
   "outputs": [],
   "source": [
    "def voisins(indice, train_size, y):\n",
    "    indice_triee = np.argsort(dist_matrix[indice])\n",
    "    indice_voisins = []\n",
    "    compteur = 1\n",
    "    while len(indice_voisins) < 5:\n",
    "        if(indice_triee[compteur]<train_size):\n",
    "            indice_voisins.append(indice_triee[compteur])\n",
    "            \n",
    "        compteur += 1\n",
    "    distance_voisins = dist_matrix[indice, indice_voisins]\n",
    "    classes = y[indice_voisins]\n",
    "    return indice_voisins, distance_voisins, classes"
   ]
  },
  {
   "cell_type": "code",
   "execution_count": 91,
   "metadata": {},
   "outputs": [],
   "source": [
    "a, b, c = voisins(10000, len(X_train), y)"
   ]
  },
  {
   "cell_type": "code",
   "execution_count": 92,
   "metadata": {},
   "outputs": [
    {
     "name": "stdout",
     "output_type": "stream",
     "text": [
      "2706    HiPS\n",
      "4397    HiPS\n",
      "7384      PE\n",
      "7908      PP\n",
      "7824      PP\n",
      "Name: class, dtype: object\n"
     ]
    }
   ],
   "source": [
    "print(c)"
   ]
  },
  {
   "cell_type": "code",
   "execution_count": 54,
   "metadata": {},
   "outputs": [
    {
     "data": {
      "text/plain": [
       "array(['ABS', 'HiPS', 'PE', 'PP'], dtype=object)"
      ]
     },
     "execution_count": 54,
     "metadata": {},
     "output_type": "execute_result"
    }
   ],
   "source": [
    "y.unique()"
   ]
  },
  {
   "cell_type": "code",
   "execution_count": 93,
   "metadata": {},
   "outputs": [],
   "source": [
    "def m_j(indice, train_size, y):\n",
    "    indice_voisins, distance_voisins, classes = voisins(indice, train_size, y)\n",
    "    coeff_ABS, coeff_HIPS, coeff_PE, coeff_PP = 1, 1, 1, 1\n",
    "\n",
    "    #calcul des coefficients\n",
    "    for i in range(len(indice_voisins)) :\n",
    "        current_class = str(classes.iloc[i])\n",
    "        if current_class == 'ABS':\n",
    "            coeff_ABS *= (1- phi(coeff_gamma, distance_voisins[i])[0])\n",
    "        elif current_class == 'HIPS':\n",
    "            coeff_HIPS *= (1- phi(coeff_gamma, distance_voisins[i])[1])\n",
    "        elif current_class == 'PE':\n",
    "            coeff_PE *= (1- phi(coeff_gamma, distance_voisins[i])[2])\n",
    "        elif current_class == 'PP':\n",
    "            coeff_PP *= (1- phi(coeff_gamma, distance_voisins[i])[3])\n",
    "    \n",
    "    # calcul the fourth m_i(A|X) = [A=theta_i, A!=theta_i]\n",
    "    m_ABS=[1-coeff_ABS, coeff_ABS]\n",
    "    m_HIPS=[1-coeff_HIPS, coeff_HIPS]\n",
    "    m_PE=[1-coeff_PE, coeff_PE]\n",
    "    m_PP=[1-coeff_PP, coeff_PP]\n",
    "\n",
    "    m_j =  np.array([m_ABS, m_HIPS,m_PE, m_PP])\n",
    "\n",
    "    # normalization coeff \n",
    "    product = np.prod(m_j)\n",
    "    sum = 0\n",
    "    for i in range(4):\n",
    "        sum += m_j[i][0]*m_j[(i+1)%4][1]*m_j[(i+2)%4][1]*m_j[(i+3)%4][1]\n",
    "    n_factor = product + sum\n",
    "\n",
    "    # calcul m = [m({ABS}), m({HIPS}), m({PE}), m({PP})]\n",
    "    m = np.zeros(4)\n",
    "    for i in range(4):\n",
    "        m[i] = ( m_j[i][0]*m_j[(i+1)%4][1]*m_j[(i+2)%4][1]*m_j[(i+3)%4][1] ) / n_factor\n",
    "\n",
    "    return m"
   ]
  },
  {
   "cell_type": "code",
   "execution_count": 94,
   "metadata": {},
   "outputs": [],
   "source": [
    "a = m_j(10000, len(X_train), y)"
   ]
  },
  {
   "cell_type": "code",
   "execution_count": 95,
   "metadata": {},
   "outputs": [
    {
     "data": {
      "text/plain": [
       "array([0.       , 0.       , 0.0933047, 0.9066953])"
      ]
     },
     "execution_count": 95,
     "metadata": {},
     "output_type": "execute_result"
    }
   ],
   "source": [
    "a"
   ]
  },
  {
   "cell_type": "code",
   "execution_count": 96,
   "metadata": {},
   "outputs": [],
   "source": [
    "def eknn(indice, train_size, y):\n",
    "    label = y.unique()\n",
    "\n",
    "    #on considère k voisins\n",
    "    indice_voisins, _ , _ = voisins(indice, train_size, y)\n",
    "    \n",
    "    # Calcul des masses m_i(A|X) pour chaque voisin\n",
    "    masses = [m_j(ind, train_size, y) for ind in indice_voisins]\n",
    "    \n",
    "    # Calcul de la probabilité pignistique (BetP)\n",
    "    betp = np.zeros(4)  \n",
    "    \n",
    "    for i in range(4):\n",
    "        for j in range(len(indice_voisins)):\n",
    "            betp[i] += masses[j][i]\n",
    "    \n",
    "    betp /= len(indice_voisins)\n",
    "    \n",
    "    indice_classe_pred = np.argsort(betp)[-1]\n",
    "    \n",
    "    classe_pred = label[indice_classe_pred]\n",
    "    \n",
    "    return classe_pred, y[indice]"
   ]
  },
  {
   "cell_type": "code",
   "execution_count": 97,
   "metadata": {},
   "outputs": [
    {
     "name": "stderr",
     "output_type": "stream",
     "text": [
      "C:\\Users\\33695\\AppData\\Local\\Temp\\ipykernel_80440\\2550050994.py:35: RuntimeWarning: invalid value encountered in scalar divide\n",
      "  m[i] = ( m_j[i][0]*m_j[(i+1)%4][1]*m_j[(i+2)%4][1]*m_j[(i+3)%4][1] ) / n_factor\n",
      "C:\\Users\\33695\\AppData\\Local\\Temp\\ipykernel_80440\\2550050994.py:35: RuntimeWarning: invalid value encountered in scalar divide\n",
      "  m[i] = ( m_j[i][0]*m_j[(i+1)%4][1]*m_j[(i+2)%4][1]*m_j[(i+3)%4][1] ) / n_factor\n",
      "C:\\Users\\33695\\AppData\\Local\\Temp\\ipykernel_80440\\2550050994.py:35: RuntimeWarning: invalid value encountered in scalar divide\n",
      "  m[i] = ( m_j[i][0]*m_j[(i+1)%4][1]*m_j[(i+2)%4][1]*m_j[(i+3)%4][1] ) / n_factor\n",
      "C:\\Users\\33695\\AppData\\Local\\Temp\\ipykernel_80440\\2550050994.py:35: RuntimeWarning: invalid value encountered in scalar divide\n",
      "  m[i] = ( m_j[i][0]*m_j[(i+1)%4][1]*m_j[(i+2)%4][1]*m_j[(i+3)%4][1] ) / n_factor\n",
      "C:\\Users\\33695\\AppData\\Local\\Temp\\ipykernel_80440\\2550050994.py:35: RuntimeWarning: invalid value encountered in scalar divide\n",
      "  m[i] = ( m_j[i][0]*m_j[(i+1)%4][1]*m_j[(i+2)%4][1]*m_j[(i+3)%4][1] ) / n_factor\n",
      "C:\\Users\\33695\\AppData\\Local\\Temp\\ipykernel_80440\\2550050994.py:35: RuntimeWarning: invalid value encountered in scalar divide\n",
      "  m[i] = ( m_j[i][0]*m_j[(i+1)%4][1]*m_j[(i+2)%4][1]*m_j[(i+3)%4][1] ) / n_factor\n",
      "C:\\Users\\33695\\AppData\\Local\\Temp\\ipykernel_80440\\2550050994.py:35: RuntimeWarning: invalid value encountered in scalar divide\n",
      "  m[i] = ( m_j[i][0]*m_j[(i+1)%4][1]*m_j[(i+2)%4][1]*m_j[(i+3)%4][1] ) / n_factor\n",
      "C:\\Users\\33695\\AppData\\Local\\Temp\\ipykernel_80440\\2550050994.py:35: RuntimeWarning: invalid value encountered in scalar divide\n",
      "  m[i] = ( m_j[i][0]*m_j[(i+1)%4][1]*m_j[(i+2)%4][1]*m_j[(i+3)%4][1] ) / n_factor\n",
      "C:\\Users\\33695\\AppData\\Local\\Temp\\ipykernel_80440\\2550050994.py:35: RuntimeWarning: invalid value encountered in scalar divide\n",
      "  m[i] = ( m_j[i][0]*m_j[(i+1)%4][1]*m_j[(i+2)%4][1]*m_j[(i+3)%4][1] ) / n_factor\n",
      "C:\\Users\\33695\\AppData\\Local\\Temp\\ipykernel_80440\\2550050994.py:35: RuntimeWarning: invalid value encountered in scalar divide\n",
      "  m[i] = ( m_j[i][0]*m_j[(i+1)%4][1]*m_j[(i+2)%4][1]*m_j[(i+3)%4][1] ) / n_factor\n",
      "C:\\Users\\33695\\AppData\\Local\\Temp\\ipykernel_80440\\2550050994.py:35: RuntimeWarning: invalid value encountered in scalar divide\n",
      "  m[i] = ( m_j[i][0]*m_j[(i+1)%4][1]*m_j[(i+2)%4][1]*m_j[(i+3)%4][1] ) / n_factor\n",
      "C:\\Users\\33695\\AppData\\Local\\Temp\\ipykernel_80440\\2550050994.py:35: RuntimeWarning: invalid value encountered in scalar divide\n",
      "  m[i] = ( m_j[i][0]*m_j[(i+1)%4][1]*m_j[(i+2)%4][1]*m_j[(i+3)%4][1] ) / n_factor\n",
      "C:\\Users\\33695\\AppData\\Local\\Temp\\ipykernel_80440\\2550050994.py:35: RuntimeWarning: invalid value encountered in scalar divide\n",
      "  m[i] = ( m_j[i][0]*m_j[(i+1)%4][1]*m_j[(i+2)%4][1]*m_j[(i+3)%4][1] ) / n_factor\n",
      "C:\\Users\\33695\\AppData\\Local\\Temp\\ipykernel_80440\\2550050994.py:35: RuntimeWarning: invalid value encountered in scalar divide\n",
      "  m[i] = ( m_j[i][0]*m_j[(i+1)%4][1]*m_j[(i+2)%4][1]*m_j[(i+3)%4][1] ) / n_factor\n",
      "C:\\Users\\33695\\AppData\\Local\\Temp\\ipykernel_80440\\2550050994.py:35: RuntimeWarning: invalid value encountered in scalar divide\n",
      "  m[i] = ( m_j[i][0]*m_j[(i+1)%4][1]*m_j[(i+2)%4][1]*m_j[(i+3)%4][1] ) / n_factor\n",
      "C:\\Users\\33695\\AppData\\Local\\Temp\\ipykernel_80440\\2550050994.py:35: RuntimeWarning: invalid value encountered in scalar divide\n",
      "  m[i] = ( m_j[i][0]*m_j[(i+1)%4][1]*m_j[(i+2)%4][1]*m_j[(i+3)%4][1] ) / n_factor\n",
      "C:\\Users\\33695\\AppData\\Local\\Temp\\ipykernel_80440\\2550050994.py:35: RuntimeWarning: invalid value encountered in scalar divide\n",
      "  m[i] = ( m_j[i][0]*m_j[(i+1)%4][1]*m_j[(i+2)%4][1]*m_j[(i+3)%4][1] ) / n_factor\n",
      "C:\\Users\\33695\\AppData\\Local\\Temp\\ipykernel_80440\\2550050994.py:35: RuntimeWarning: invalid value encountered in scalar divide\n",
      "  m[i] = ( m_j[i][0]*m_j[(i+1)%4][1]*m_j[(i+2)%4][1]*m_j[(i+3)%4][1] ) / n_factor\n",
      "C:\\Users\\33695\\AppData\\Local\\Temp\\ipykernel_80440\\2550050994.py:35: RuntimeWarning: invalid value encountered in scalar divide\n",
      "  m[i] = ( m_j[i][0]*m_j[(i+1)%4][1]*m_j[(i+2)%4][1]*m_j[(i+3)%4][1] ) / n_factor\n",
      "C:\\Users\\33695\\AppData\\Local\\Temp\\ipykernel_80440\\2550050994.py:35: RuntimeWarning: invalid value encountered in scalar divide\n",
      "  m[i] = ( m_j[i][0]*m_j[(i+1)%4][1]*m_j[(i+2)%4][1]*m_j[(i+3)%4][1] ) / n_factor\n",
      "C:\\Users\\33695\\AppData\\Local\\Temp\\ipykernel_80440\\2550050994.py:35: RuntimeWarning: invalid value encountered in scalar divide\n",
      "  m[i] = ( m_j[i][0]*m_j[(i+1)%4][1]*m_j[(i+2)%4][1]*m_j[(i+3)%4][1] ) / n_factor\n",
      "C:\\Users\\33695\\AppData\\Local\\Temp\\ipykernel_80440\\2550050994.py:35: RuntimeWarning: invalid value encountered in scalar divide\n",
      "  m[i] = ( m_j[i][0]*m_j[(i+1)%4][1]*m_j[(i+2)%4][1]*m_j[(i+3)%4][1] ) / n_factor\n",
      "C:\\Users\\33695\\AppData\\Local\\Temp\\ipykernel_80440\\2550050994.py:35: RuntimeWarning: invalid value encountered in scalar divide\n",
      "  m[i] = ( m_j[i][0]*m_j[(i+1)%4][1]*m_j[(i+2)%4][1]*m_j[(i+3)%4][1] ) / n_factor\n",
      "C:\\Users\\33695\\AppData\\Local\\Temp\\ipykernel_80440\\2550050994.py:35: RuntimeWarning: invalid value encountered in scalar divide\n",
      "  m[i] = ( m_j[i][0]*m_j[(i+1)%4][1]*m_j[(i+2)%4][1]*m_j[(i+3)%4][1] ) / n_factor\n",
      "C:\\Users\\33695\\AppData\\Local\\Temp\\ipykernel_80440\\2550050994.py:35: RuntimeWarning: invalid value encountered in scalar divide\n",
      "  m[i] = ( m_j[i][0]*m_j[(i+1)%4][1]*m_j[(i+2)%4][1]*m_j[(i+3)%4][1] ) / n_factor\n",
      "C:\\Users\\33695\\AppData\\Local\\Temp\\ipykernel_80440\\2550050994.py:35: RuntimeWarning: invalid value encountered in scalar divide\n",
      "  m[i] = ( m_j[i][0]*m_j[(i+1)%4][1]*m_j[(i+2)%4][1]*m_j[(i+3)%4][1] ) / n_factor\n",
      "C:\\Users\\33695\\AppData\\Local\\Temp\\ipykernel_80440\\2550050994.py:35: RuntimeWarning: invalid value encountered in scalar divide\n",
      "  m[i] = ( m_j[i][0]*m_j[(i+1)%4][1]*m_j[(i+2)%4][1]*m_j[(i+3)%4][1] ) / n_factor\n",
      "C:\\Users\\33695\\AppData\\Local\\Temp\\ipykernel_80440\\2550050994.py:35: RuntimeWarning: invalid value encountered in scalar divide\n",
      "  m[i] = ( m_j[i][0]*m_j[(i+1)%4][1]*m_j[(i+2)%4][1]*m_j[(i+3)%4][1] ) / n_factor\n",
      "C:\\Users\\33695\\AppData\\Local\\Temp\\ipykernel_80440\\2550050994.py:35: RuntimeWarning: invalid value encountered in scalar divide\n",
      "  m[i] = ( m_j[i][0]*m_j[(i+1)%4][1]*m_j[(i+2)%4][1]*m_j[(i+3)%4][1] ) / n_factor\n",
      "C:\\Users\\33695\\AppData\\Local\\Temp\\ipykernel_80440\\2550050994.py:35: RuntimeWarning: invalid value encountered in scalar divide\n",
      "  m[i] = ( m_j[i][0]*m_j[(i+1)%4][1]*m_j[(i+2)%4][1]*m_j[(i+3)%4][1] ) / n_factor\n",
      "C:\\Users\\33695\\AppData\\Local\\Temp\\ipykernel_80440\\2550050994.py:35: RuntimeWarning: invalid value encountered in scalar divide\n",
      "  m[i] = ( m_j[i][0]*m_j[(i+1)%4][1]*m_j[(i+2)%4][1]*m_j[(i+3)%4][1] ) / n_factor\n",
      "C:\\Users\\33695\\AppData\\Local\\Temp\\ipykernel_80440\\2550050994.py:35: RuntimeWarning: invalid value encountered in scalar divide\n",
      "  m[i] = ( m_j[i][0]*m_j[(i+1)%4][1]*m_j[(i+2)%4][1]*m_j[(i+3)%4][1] ) / n_factor\n",
      "C:\\Users\\33695\\AppData\\Local\\Temp\\ipykernel_80440\\2550050994.py:35: RuntimeWarning: invalid value encountered in scalar divide\n",
      "  m[i] = ( m_j[i][0]*m_j[(i+1)%4][1]*m_j[(i+2)%4][1]*m_j[(i+3)%4][1] ) / n_factor\n",
      "C:\\Users\\33695\\AppData\\Local\\Temp\\ipykernel_80440\\2550050994.py:35: RuntimeWarning: invalid value encountered in scalar divide\n",
      "  m[i] = ( m_j[i][0]*m_j[(i+1)%4][1]*m_j[(i+2)%4][1]*m_j[(i+3)%4][1] ) / n_factor\n",
      "C:\\Users\\33695\\AppData\\Local\\Temp\\ipykernel_80440\\2550050994.py:35: RuntimeWarning: invalid value encountered in scalar divide\n",
      "  m[i] = ( m_j[i][0]*m_j[(i+1)%4][1]*m_j[(i+2)%4][1]*m_j[(i+3)%4][1] ) / n_factor\n",
      "C:\\Users\\33695\\AppData\\Local\\Temp\\ipykernel_80440\\2550050994.py:35: RuntimeWarning: invalid value encountered in scalar divide\n",
      "  m[i] = ( m_j[i][0]*m_j[(i+1)%4][1]*m_j[(i+2)%4][1]*m_j[(i+3)%4][1] ) / n_factor\n",
      "C:\\Users\\33695\\AppData\\Local\\Temp\\ipykernel_80440\\2550050994.py:35: RuntimeWarning: invalid value encountered in scalar divide\n",
      "  m[i] = ( m_j[i][0]*m_j[(i+1)%4][1]*m_j[(i+2)%4][1]*m_j[(i+3)%4][1] ) / n_factor\n",
      "C:\\Users\\33695\\AppData\\Local\\Temp\\ipykernel_80440\\2550050994.py:35: RuntimeWarning: invalid value encountered in scalar divide\n",
      "  m[i] = ( m_j[i][0]*m_j[(i+1)%4][1]*m_j[(i+2)%4][1]*m_j[(i+3)%4][1] ) / n_factor\n",
      "C:\\Users\\33695\\AppData\\Local\\Temp\\ipykernel_80440\\2550050994.py:35: RuntimeWarning: invalid value encountered in scalar divide\n",
      "  m[i] = ( m_j[i][0]*m_j[(i+1)%4][1]*m_j[(i+2)%4][1]*m_j[(i+3)%4][1] ) / n_factor\n",
      "C:\\Users\\33695\\AppData\\Local\\Temp\\ipykernel_80440\\2550050994.py:35: RuntimeWarning: invalid value encountered in scalar divide\n",
      "  m[i] = ( m_j[i][0]*m_j[(i+1)%4][1]*m_j[(i+2)%4][1]*m_j[(i+3)%4][1] ) / n_factor\n",
      "C:\\Users\\33695\\AppData\\Local\\Temp\\ipykernel_80440\\2550050994.py:35: RuntimeWarning: invalid value encountered in scalar divide\n",
      "  m[i] = ( m_j[i][0]*m_j[(i+1)%4][1]*m_j[(i+2)%4][1]*m_j[(i+3)%4][1] ) / n_factor\n",
      "C:\\Users\\33695\\AppData\\Local\\Temp\\ipykernel_80440\\2550050994.py:35: RuntimeWarning: invalid value encountered in scalar divide\n",
      "  m[i] = ( m_j[i][0]*m_j[(i+1)%4][1]*m_j[(i+2)%4][1]*m_j[(i+3)%4][1] ) / n_factor\n",
      "C:\\Users\\33695\\AppData\\Local\\Temp\\ipykernel_80440\\2550050994.py:35: RuntimeWarning: invalid value encountered in scalar divide\n",
      "  m[i] = ( m_j[i][0]*m_j[(i+1)%4][1]*m_j[(i+2)%4][1]*m_j[(i+3)%4][1] ) / n_factor\n",
      "C:\\Users\\33695\\AppData\\Local\\Temp\\ipykernel_80440\\2550050994.py:35: RuntimeWarning: invalid value encountered in scalar divide\n",
      "  m[i] = ( m_j[i][0]*m_j[(i+1)%4][1]*m_j[(i+2)%4][1]*m_j[(i+3)%4][1] ) / n_factor\n",
      "C:\\Users\\33695\\AppData\\Local\\Temp\\ipykernel_80440\\2550050994.py:35: RuntimeWarning: invalid value encountered in scalar divide\n",
      "  m[i] = ( m_j[i][0]*m_j[(i+1)%4][1]*m_j[(i+2)%4][1]*m_j[(i+3)%4][1] ) / n_factor\n",
      "C:\\Users\\33695\\AppData\\Local\\Temp\\ipykernel_80440\\2550050994.py:35: RuntimeWarning: invalid value encountered in scalar divide\n",
      "  m[i] = ( m_j[i][0]*m_j[(i+1)%4][1]*m_j[(i+2)%4][1]*m_j[(i+3)%4][1] ) / n_factor\n",
      "C:\\Users\\33695\\AppData\\Local\\Temp\\ipykernel_80440\\2550050994.py:35: RuntimeWarning: invalid value encountered in scalar divide\n",
      "  m[i] = ( m_j[i][0]*m_j[(i+1)%4][1]*m_j[(i+2)%4][1]*m_j[(i+3)%4][1] ) / n_factor\n",
      "C:\\Users\\33695\\AppData\\Local\\Temp\\ipykernel_80440\\2550050994.py:35: RuntimeWarning: invalid value encountered in scalar divide\n",
      "  m[i] = ( m_j[i][0]*m_j[(i+1)%4][1]*m_j[(i+2)%4][1]*m_j[(i+3)%4][1] ) / n_factor\n",
      "C:\\Users\\33695\\AppData\\Local\\Temp\\ipykernel_80440\\2550050994.py:35: RuntimeWarning: invalid value encountered in scalar divide\n",
      "  m[i] = ( m_j[i][0]*m_j[(i+1)%4][1]*m_j[(i+2)%4][1]*m_j[(i+3)%4][1] ) / n_factor\n",
      "C:\\Users\\33695\\AppData\\Local\\Temp\\ipykernel_80440\\2550050994.py:35: RuntimeWarning: invalid value encountered in scalar divide\n",
      "  m[i] = ( m_j[i][0]*m_j[(i+1)%4][1]*m_j[(i+2)%4][1]*m_j[(i+3)%4][1] ) / n_factor\n",
      "C:\\Users\\33695\\AppData\\Local\\Temp\\ipykernel_80440\\2550050994.py:35: RuntimeWarning: invalid value encountered in scalar divide\n",
      "  m[i] = ( m_j[i][0]*m_j[(i+1)%4][1]*m_j[(i+2)%4][1]*m_j[(i+3)%4][1] ) / n_factor\n",
      "C:\\Users\\33695\\AppData\\Local\\Temp\\ipykernel_80440\\2550050994.py:35: RuntimeWarning: invalid value encountered in scalar divide\n",
      "  m[i] = ( m_j[i][0]*m_j[(i+1)%4][1]*m_j[(i+2)%4][1]*m_j[(i+3)%4][1] ) / n_factor\n",
      "C:\\Users\\33695\\AppData\\Local\\Temp\\ipykernel_80440\\2550050994.py:35: RuntimeWarning: invalid value encountered in scalar divide\n",
      "  m[i] = ( m_j[i][0]*m_j[(i+1)%4][1]*m_j[(i+2)%4][1]*m_j[(i+3)%4][1] ) / n_factor\n"
     ]
    },
    {
     "name": "stdout",
     "output_type": "stream",
     "text": [
      "74 1977\n"
     ]
    }
   ],
   "source": [
    "true = 0\n",
    "false = 0\n",
    "\n",
    "for i in range(len(X_train), len(data)):\n",
    "    pred, expected = eknn(i, len(X_train), y)\n",
    "    if pred == expected :\n",
    "        true += 1\n",
    "    else :\n",
    "        false += 1\n",
    "print(true, false)\n"
   ]
  },
  {
   "cell_type": "code",
   "execution_count": null,
   "metadata": {},
   "outputs": [],
   "source": []
  }
 ],
 "metadata": {
  "kernelspec": {
   "display_name": "Python 3",
   "language": "python",
   "name": "python3"
  },
  "language_info": {
   "codemirror_mode": {
    "name": "ipython",
    "version": 3
   },
   "file_extension": ".py",
   "mimetype": "text/x-python",
   "name": "python",
   "nbconvert_exporter": "python",
   "pygments_lexer": "ipython3",
   "version": "3.11.6"
  }
 },
 "nbformat": 4,
 "nbformat_minor": 2
}
