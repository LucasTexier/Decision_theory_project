{
 "cells": [
  {
   "cell_type": "markdown",
   "id": "82d0e0aa",
   "metadata": {},
   "source": [
    "# Decision theory project\n",
    "Antoine JOFFROY\n",
    "Lucas TEXIER"
   ]
  },
  {
   "cell_type": "code",
   "execution_count": 82,
   "id": "913bef17",
   "metadata": {},
   "outputs": [],
   "source": [
    "# Imports for the whole labwork\n",
    "\n",
    "import numpy as np\n",
    "import pulp\n",
    "import pandas as pd\n",
    "import numpy as np \n",
    "from sklearn.ensemble import RandomForestClassifier\n",
    "from sklearn.model_selection import train_test_split\n",
    "from sklearn.svm import SVC\n",
    "from sklearn.neighbors import KNeighborsClassifier\n",
    "from scipy.spatial.distance import pdist, squareform\n",
    "from sklearn.metrics import confusion_matrix\n",
    "import seaborn as sns\n",
    "import matplotlib.pyplot as plt"
   ]
  },
  {
   "cell_type": "markdown",
   "id": "47cff4de",
   "metadata": {},
   "source": [
    "##  Tasks 1:  Determination of the value function "
   ]
  },
  {
   "cell_type": "markdown",
   "id": "1d13c38a",
   "metadata": {},
   "source": [
    "### a. The DM gives his preferences by comparing each pair of alternatives following the Macbeth questioning procedure."
   ]
  },
  {
   "cell_type": "markdown",
   "id": "13fe4865",
   "metadata": {},
   "source": [
    "![Image](./matrice_DM.png)"
   ]
  },
  {
   "cell_type": "markdown",
   "id": "ad3eae0b",
   "metadata": {},
   "source": [
    "* The DM has given his preferences in this matrix with this scale of preferences : extrem, very strong, strong, moderate, weak, very weak, nul"
   ]
  },
  {
   "cell_type": "markdown",
   "id": "2a6c8cad",
   "metadata": {},
   "source": [
    "### b. The analyst checks with the DM possible (inconsistencies) in the preferences especially transitivity"
   ]
  },
  {
   "cell_type": "markdown",
   "id": "d04176d4",
   "metadata": {},
   "source": [
    "* The software ensures that the judgement is consistent and the transitivity is satisfied (manually verified)"
   ]
  },
  {
   "cell_type": "markdown",
   "id": "14ea2851",
   "metadata": {},
   "source": [
    "### c. If the binary relation representing the preferences is a weak order, then a value function exists to represent these preferences."
   ]
  },
  {
   "cell_type": "markdown",
   "id": "34892876",
   "metadata": {},
   "source": [
    "* The binary relation is a weak order so a value function exists."
   ]
  },
  {
   "cell_type": "markdown",
   "id": "f21ea13b",
   "metadata": {},
   "source": [
    "### d. Assess the value function (solving an optimization problem).\n"
   ]
  },
  {
   "cell_type": "markdown",
   "id": "35a1c0e9",
   "metadata": {},
   "source": [
    "* First, the scale is initialized :"
   ]
  },
  {
   "cell_type": "code",
   "execution_count": 84,
   "id": "498b3be9",
   "metadata": {},
   "outputs": [],
   "source": [
    "scale = {\n",
    "    0: \"Nulle\",\n",
    "    1: \"Very Weak\",\n",
    "    2: \"Weak\",\n",
    "    3: \"Moderate\",\n",
    "    4: \"Strong\",\n",
    "    5: \"Very Strong\"\n",
    "}"
   ]
  },
  {
   "cell_type": "markdown",
   "id": "3ae3080c",
   "metadata": {},
   "source": [
    "* With that scale, the matrix of the DM is : "
   ]
  },
  {
   "cell_type": "code",
   "execution_count": 85,
   "id": "76081d34",
   "metadata": {},
   "outputs": [],
   "source": [
    "#order of the social networks\n",
    "social_networks = [\"Sup\", \"Instagram\", \"LinkedIn\", \"X\", \"Facebook\", \"Tik Tok\", \"Inf\"]\n",
    "\n",
    "#-1 is used beacause it is a symetrical matrix\n",
    "DM_matrix=np.array([[0,3,4,4,4,6,6],\n",
    "                    [-1,0,3,4,4,5,5],\n",
    "                    [-1,-1,0,4,4,5,5],\n",
    "                    [-1,-1,-1,0,3,4,4],\n",
    "                    [-1,-1,-1,-1,0,4,4],\n",
    "                    [-1,-1,-1,-1,-1,0,2],\n",
    "                    [-1,-1,-1,-1,-1,-1,0]])"
   ]
  },
  {
   "cell_type": "code",
   "execution_count": 86,
   "id": "d917772c",
   "metadata": {},
   "outputs": [],
   "source": [
    "'''\n",
    "Define a function which resolves the optimization problem from the DM_matrix to find value the function\n",
    "'''\n",
    "def find_value_function(DM_matrix):\n",
    "    # pulp solver is used\n",
    "    optimization_problem = pulp.LpProblem(\"Value_Function\", pulp.LpMinimize) #solving an optimization problem\n",
    "    values = pulp.LpVariable.dicts(\"Value\", range(len(DM_matrix)), lowBound=0)\n",
    "    optimization_problem += pulp.lpSum([values[i] for i in range(len(DM_matrix))]) \n",
    "\n",
    "    for i in range(len(DM_matrix)):\n",
    "        for j in range(len(DM_matrix[0])):\n",
    "            if DM_matrix[i][j] != -1: # to only treat the upper diagonal\n",
    "                optimization_problem += values[i] >= DM_matrix[i][j] + values[j]\n",
    "\n",
    "    #solve the probleme and recup the value of each class\n",
    "    optimization_problem.solve()\n",
    "    value_function = [pulp.value(values[i]) for i in range(len(DM_matrix))]\n",
    "\n",
    "    return value_function"
   ]
  },
  {
   "cell_type": "markdown",
   "id": "db80b432",
   "metadata": {},
   "source": [
    "* Application on our matrix of social networks"
   ]
  },
  {
   "cell_type": "code",
   "execution_count": 87,
   "id": "f764ee51",
   "metadata": {},
   "outputs": [
    {
     "name": "stdout",
     "output_type": "stream",
     "text": [
      "Welcome to the CBC MILP Solver \n",
      "Version: 2.10.3 \n",
      "Build Date: Dec 15 2019 \n",
      "\n",
      "command line - /Users/bagafoufabrice/opt/anaconda3/lib/python3.9/site-packages/pulp/solverdir/cbc/osx/64/cbc /var/folders/yr/n_p4jzks6qv45jchfckvfsth0000gn/T/180658b363ae42f392a7b1d20ac4eba2-pulp.mps timeMode elapsed branch printingOptions all solution /var/folders/yr/n_p4jzks6qv45jchfckvfsth0000gn/T/180658b363ae42f392a7b1d20ac4eba2-pulp.sol (default strategy 1)\n",
      "At line 2 NAME          MODEL\n",
      "At line 3 ROWS\n",
      "At line 33 COLUMNS\n",
      "At line 90 RHS\n",
      "At line 119 BOUNDS\n",
      "At line 120 ENDATA\n",
      "Problem MODEL has 28 rows, 7 columns and 42 elements\n",
      "Coin0008I MODEL read with 0 errors\n",
      "Option for timeMode changed from cpu to elapsed\n",
      "Presolve 0 (-28) rows, 0 (-7) columns and 0 (-42) elements\n",
      "Empty problem - 0 rows, 0 columns and 0 elements\n",
      "Optimal - objective value 65\n",
      "After Postsolve, objective 65, infeasibilities - dual 0 (0), primal 0 (0)\n",
      "Optimal objective 65 - 0 iterations time 0.002, Presolve 0.00\n",
      "Option for printingOptions changed from normal to all\n",
      "Total time (CPU seconds):       0.00   (Wallclock seconds):       0.01\n",
      "\n",
      "Our final value function :\n",
      "['Sup', 'Instagram', 'LinkedIn', 'X', 'Facebook', 'Tik Tok', 'Inf']\n",
      "[19.0, 16.0, 13.0, 9.0, 6.0, 2.0, 0.0]\n"
     ]
    }
   ],
   "source": [
    "value_function = find_value_function(DM_matrix)\n",
    "\n",
    "print(\"Our final value function :\")\n",
    "print(social_networks)\n",
    "print(value_function)\n"
   ]
  },
  {
   "cell_type": "markdown",
   "id": "f4cd0dae",
   "metadata": {},
   "source": [
    "### e. A ranking can be established regarding the value obtained by each Social network.\n"
   ]
  },
  {
   "cell_type": "markdown",
   "id": "29f3a311",
   "metadata": {},
   "source": [
    "Thanks to the value function, the ranking is :\n",
    "* 1. Instagram\n",
    "* 2. LinkedIn\n",
    "* 3. X \n",
    "* 4. Facebook\n",
    "* 5. Tik Tok"
   ]
  },
  {
   "cell_type": "markdown",
   "id": "589ec741",
   "metadata": {},
   "source": [
    "# Data"
   ]
  },
  {
   "cell_type": "code",
   "execution_count": 1,
   "id": "bd9a867f",
   "metadata": {},
   "outputs": [],
   "source": [
    "import pandas as pd\n",
    "import numpy as np \n",
    "from sklearn.ensemble import RandomForestClassifier\n",
    "from sklearn.model_selection import train_test_split"
   ]
  },
  {
   "cell_type": "code",
   "execution_count": 88,
   "id": "f551160a",
   "metadata": {},
   "outputs": [
    {
     "data": {
      "text/html": [
       "<div>\n",
       "<style scoped>\n",
       "    .dataframe tbody tr th:only-of-type {\n",
       "        vertical-align: middle;\n",
       "    }\n",
       "\n",
       "    .dataframe tbody tr th {\n",
       "        vertical-align: top;\n",
       "    }\n",
       "\n",
       "    .dataframe thead th {\n",
       "        text-align: right;\n",
       "    }\n",
       "</style>\n",
       "<table border=\"1\" class=\"dataframe\">\n",
       "  <thead>\n",
       "    <tr style=\"text-align: right;\">\n",
       "      <th></th>\n",
       "      <th>3687cm-1</th>\n",
       "      <th>3665cm-1</th>\n",
       "      <th>3642cm-1</th>\n",
       "      <th>3620cm-1</th>\n",
       "      <th>3598cm-1</th>\n",
       "      <th>3577cm-1</th>\n",
       "      <th>3555cm-1</th>\n",
       "      <th>3534cm-1</th>\n",
       "      <th>3514cm-1</th>\n",
       "      <th>3493cm-1</th>\n",
       "      <th>...</th>\n",
       "      <th>1952cm-1</th>\n",
       "      <th>1945cm-1</th>\n",
       "      <th>1939cm-1</th>\n",
       "      <th>1933cm-1</th>\n",
       "      <th>1927cm-1</th>\n",
       "      <th>1920cm-1</th>\n",
       "      <th>1914cm-1</th>\n",
       "      <th>1908cm-1</th>\n",
       "      <th>1902cm-1</th>\n",
       "      <th>1896cm-1</th>\n",
       "    </tr>\n",
       "  </thead>\n",
       "  <tbody>\n",
       "    <tr>\n",
       "      <th>0</th>\n",
       "      <td>-1.996200</td>\n",
       "      <td>-1.964828</td>\n",
       "      <td>-1.988133</td>\n",
       "      <td>-1.997992</td>\n",
       "      <td>-1.997096</td>\n",
       "      <td>-1.981858</td>\n",
       "      <td>-1.981858</td>\n",
       "      <td>-1.936146</td>\n",
       "      <td>-1.954073</td>\n",
       "      <td>-1.906568</td>\n",
       "      <td>...</td>\n",
       "      <td>-0.316504</td>\n",
       "      <td>-0.440196</td>\n",
       "      <td>-0.534309</td>\n",
       "      <td>-0.544168</td>\n",
       "      <td>-0.590777</td>\n",
       "      <td>-0.719846</td>\n",
       "      <td>-0.787070</td>\n",
       "      <td>-0.762869</td>\n",
       "      <td>-0.775418</td>\n",
       "      <td>-0.800515</td>\n",
       "    </tr>\n",
       "    <tr>\n",
       "      <th>1</th>\n",
       "      <td>-1.931995</td>\n",
       "      <td>-1.932870</td>\n",
       "      <td>-1.952113</td>\n",
       "      <td>-2.006342</td>\n",
       "      <td>-1.984475</td>\n",
       "      <td>-1.968731</td>\n",
       "      <td>-1.966982</td>\n",
       "      <td>-1.936369</td>\n",
       "      <td>-1.910129</td>\n",
       "      <td>-1.862897</td>\n",
       "      <td>...</td>\n",
       "      <td>-0.297249</td>\n",
       "      <td>-0.419702</td>\n",
       "      <td>-0.552651</td>\n",
       "      <td>-0.557899</td>\n",
       "      <td>-0.564896</td>\n",
       "      <td>-0.691723</td>\n",
       "      <td>-0.766069</td>\n",
       "      <td>-0.753824</td>\n",
       "      <td>-0.752949</td>\n",
       "      <td>-0.782688</td>\n",
       "    </tr>\n",
       "    <tr>\n",
       "      <th>2</th>\n",
       "      <td>-1.933060</td>\n",
       "      <td>-1.932180</td>\n",
       "      <td>-1.973558</td>\n",
       "      <td>-1.946266</td>\n",
       "      <td>-1.983243</td>\n",
       "      <td>-1.965635</td>\n",
       "      <td>-1.948907</td>\n",
       "      <td>-1.926897</td>\n",
       "      <td>-1.904007</td>\n",
       "      <td>-1.871432</td>\n",
       "      <td>...</td>\n",
       "      <td>-0.247100</td>\n",
       "      <td>-0.328977</td>\n",
       "      <td>-0.444309</td>\n",
       "      <td>-0.450472</td>\n",
       "      <td>-0.481286</td>\n",
       "      <td>-0.615986</td>\n",
       "      <td>-0.659126</td>\n",
       "      <td>-0.630953</td>\n",
       "      <td>-0.650322</td>\n",
       "      <td>-0.660887</td>\n",
       "    </tr>\n",
       "    <tr>\n",
       "      <th>3</th>\n",
       "      <td>-1.811951</td>\n",
       "      <td>-1.808491</td>\n",
       "      <td>-1.861257</td>\n",
       "      <td>-1.894992</td>\n",
       "      <td>-1.918348</td>\n",
       "      <td>-1.889802</td>\n",
       "      <td>-1.871637</td>\n",
       "      <td>-1.877692</td>\n",
       "      <td>-1.869907</td>\n",
       "      <td>-1.818871</td>\n",
       "      <td>...</td>\n",
       "      <td>-0.139874</td>\n",
       "      <td>-0.202155</td>\n",
       "      <td>-0.324123</td>\n",
       "      <td>-0.311147</td>\n",
       "      <td>-0.333638</td>\n",
       "      <td>-0.436575</td>\n",
       "      <td>-0.489341</td>\n",
       "      <td>-0.483286</td>\n",
       "      <td>-0.457335</td>\n",
       "      <td>-0.471175</td>\n",
       "    </tr>\n",
       "    <tr>\n",
       "      <th>4</th>\n",
       "      <td>-1.911310</td>\n",
       "      <td>-1.917137</td>\n",
       "      <td>-1.959097</td>\n",
       "      <td>-1.969587</td>\n",
       "      <td>-1.960263</td>\n",
       "      <td>-1.962594</td>\n",
       "      <td>-1.948607</td>\n",
       "      <td>-1.936952</td>\n",
       "      <td>-1.913641</td>\n",
       "      <td>-1.849535</td>\n",
       "      <td>...</td>\n",
       "      <td>-0.295847</td>\n",
       "      <td>-0.386761</td>\n",
       "      <td>-0.477674</td>\n",
       "      <td>-0.528959</td>\n",
       "      <td>-0.559263</td>\n",
       "      <td>-0.676984</td>\n",
       "      <td>-0.722441</td>\n",
       "      <td>-0.711951</td>\n",
       "      <td>-0.724772</td>\n",
       "      <td>-0.753911</td>\n",
       "    </tr>\n",
       "  </tbody>\n",
       "</table>\n",
       "<p>5 rows × 154 columns</p>\n",
       "</div>"
      ],
      "text/plain": [
       "   3687cm-1  3665cm-1  3642cm-1  3620cm-1  3598cm-1  3577cm-1  3555cm-1  \\\n",
       "0 -1.996200 -1.964828 -1.988133 -1.997992 -1.997096 -1.981858 -1.981858   \n",
       "1 -1.931995 -1.932870 -1.952113 -2.006342 -1.984475 -1.968731 -1.966982   \n",
       "2 -1.933060 -1.932180 -1.973558 -1.946266 -1.983243 -1.965635 -1.948907   \n",
       "3 -1.811951 -1.808491 -1.861257 -1.894992 -1.918348 -1.889802 -1.871637   \n",
       "4 -1.911310 -1.917137 -1.959097 -1.969587 -1.960263 -1.962594 -1.948607   \n",
       "\n",
       "   3534cm-1  3514cm-1  3493cm-1  ...  1952cm-1  1945cm-1  1939cm-1  1933cm-1  \\\n",
       "0 -1.936146 -1.954073 -1.906568  ... -0.316504 -0.440196 -0.534309 -0.544168   \n",
       "1 -1.936369 -1.910129 -1.862897  ... -0.297249 -0.419702 -0.552651 -0.557899   \n",
       "2 -1.926897 -1.904007 -1.871432  ... -0.247100 -0.328977 -0.444309 -0.450472   \n",
       "3 -1.877692 -1.869907 -1.818871  ... -0.139874 -0.202155 -0.324123 -0.311147   \n",
       "4 -1.936952 -1.913641 -1.849535  ... -0.295847 -0.386761 -0.477674 -0.528959   \n",
       "\n",
       "   1927cm-1  1920cm-1  1914cm-1  1908cm-1  1902cm-1  1896cm-1  \n",
       "0 -0.590777 -0.719846 -0.787070 -0.762869 -0.775418 -0.800515  \n",
       "1 -0.564896 -0.691723 -0.766069 -0.753824 -0.752949 -0.782688  \n",
       "2 -0.481286 -0.615986 -0.659126 -0.630953 -0.650322 -0.660887  \n",
       "3 -0.333638 -0.436575 -0.489341 -0.483286 -0.457335 -0.471175  \n",
       "4 -0.559263 -0.676984 -0.722441 -0.711951 -0.724772 -0.753911  \n",
       "\n",
       "[5 rows x 154 columns]"
      ]
     },
     "execution_count": 88,
     "metadata": {},
     "output_type": "execute_result"
    }
   ],
   "source": [
    "df = pd.read_csv('/Users/bagafoufabrice/Downloads/PlasticsTrain.csv',sep=';')\n",
    "\n",
    "df = df.drop('line',axis = 1)\n",
    "df = df.drop('column',axis = 1)\n",
    "df = df.drop('object',axis = 1)\n",
    "Y = df['class']\n",
    "big_df = df\n",
    "df =df.drop('class',axis = 1)\n",
    "df = df[df.columns].apply(lambda x: x.str.replace(',', '.')).astype(float)\n",
    "X = df\n",
    "X.head(5)"
   ]
  },
  {
   "cell_type": "markdown",
   "id": "bdf0a8af",
   "metadata": {},
   "source": [
    "## Tasks 2: Supervised classification using expected utility (application to plastics sorting problem)"
   ]
  },
  {
   "cell_type": "markdown",
   "id": "77ed7cda",
   "metadata": {},
   "source": [
    "## a)-b)"
   ]
  },
  {
   "cell_type": "code",
   "execution_count": 5,
   "id": "fd3861a4",
   "metadata": {},
   "outputs": [],
   "source": [
    "utility_matrice = [[1,0.25,0.5,0.75],[0.75,1,0.25,0.5],[0.5,0.75,1,0.25],[0.25,0.5,0.75,1]]\n",
    "\n",
    "classes = list( Y.unique())\n",
    "    \n",
    "def new_EU(predicted, Pabs, Phips, Ppe, Ppp) :\n",
    "    i = classes.index(predicted)\n",
    "    return  (utility_matrice[i][0] * Pabs + utility_matrice[i][1] * Phips + utility_matrice[i][2] * Ppe + utility_matrice[0][3] * Ppp)\n",
    "\n",
    "    \n",
    "def Choice(Data_to_predict,model):\n",
    "    a = model.predict_proba(Data_to_predict)  # Use predict_proba to get probabilities\n",
    "    act1 = new_EU('ABS', a[0][0], a[0][1], a[0][2], a[0][3])\n",
    "    act2 = new_EU('HiPS', a[0][0], a[0][1], a[0][2], a[0][3])\n",
    "    act3 = new_EU('PE', a[0][0], a[0][1], a[0][2], a[0][3])\n",
    "    act4 = new_EU('PP', a[0][0], a[0][1], a[0][2], a[0][3])\n",
    "    v = [act1, act2, act3, act4]\n",
    "    #print(v)\n",
    "    max_index = v.index(max(v))\n",
    "    plastic = ['ABS', 'HiPS', 'PE', 'PP']\n",
    "    return plastic[max_index]\n"
   ]
  },
  {
   "cell_type": "markdown",
   "id": "08abe8b3",
   "metadata": {},
   "source": [
    "## c)"
   ]
  },
  {
   "cell_type": "code",
   "execution_count": 89,
   "id": "14dc77af",
   "metadata": {},
   "outputs": [
    {
     "name": "stdout",
     "output_type": "stream",
     "text": [
      "score without expected utility :  0.9122379327157484\n"
     ]
    },
    {
     "data": {
      "text/plain": [
       "Text(0.5, 1.0, 'Confusion Matrix Random Forest')"
      ]
     },
     "execution_count": 89,
     "metadata": {},
     "output_type": "execute_result"
    },
    {
     "data": {
      "image/png": "[encoded data removed]",
      "text/plain": [
       "<Figure size 640x480 with 2 Axes>"
      ]
     },
     "metadata": {},
     "output_type": "display_data"
    }
   ],
   "source": [
    "rf_model = RandomForestClassifier()\n",
    "X_train, X_test, y_train, y_test = train_test_split(X, Y, test_size=0.2, random_state=10)\n",
    "rf_model.fit(X_train,y_train)\n",
    "y_pred = rf_model.predict(X_test)\n",
    "score = rf_model.score(X_test,y_test)\n",
    "print('score without expected utility : ',score)\n",
    "\n",
    "conf_matrix = confusion_matrix(y_test, y_pred)\n",
    "\n",
    "# Display the confusion matrix\n",
    "sns.heatmap(conf_matrix, annot=True, fmt=\"d\", cmap=\"Blues\", xticklabels=['ABS', 'HiPS', 'PE', 'PP'], yticklabels=['ABS', 'HiPS', 'PE', 'PP'])\n",
    "plt.xlabel(\"predicted\")\n",
    "plt.ylabel(\"real\")\n",
    "plt.title(\"Confusion Matrix Random Forest\")"
   ]
  },
  {
   "cell_type": "markdown",
   "id": "76a2dd96",
   "metadata": {},
   "source": [
    "test on the whole test dataset"
   ]
  },
  {
   "cell_type": "code",
   "execution_count": 92,
   "id": "7f86d782",
   "metadata": {},
   "outputs": [
    {
     "name": "stdout",
     "output_type": "stream",
     "text": [
      "RF accuracy =  0.6845441248171623\n"
     ]
    },
    {
     "data": {
      "image/png": "[encoded data removed]",
      "text/plain": [
       "<Figure size 640x480 with 2 Axes>"
      ]
     },
     "metadata": {},
     "output_type": "display_data"
    }
   ],
   "source": [
    "def test_data_set(data,y_data,rf_model):\n",
    "    accuracy_score = 0\n",
    "    predictions = []\n",
    "    for i in range(len(data)):\n",
    "        to_test = data.iloc[i:i+1]\n",
    "        predicted = Choice(to_test,rf_model)\n",
    "        #print(y_data.iloc[i])\n",
    "        #print(predicted,y_data.iloc[i])\n",
    "        predictions.append(predicted)\n",
    "        if predicted == y_data.iloc[i]:\n",
    "            accuracy_score+=1\n",
    "    return accuracy_score/len(y_data),predictions\n",
    "#print(len(X_test))\n",
    "\n",
    "acc_rf,predictions_rf = test_data_set(X_test,y_test,rf_model)\n",
    "print('RF accuracy = ',acc_rf)\n",
    "\n",
    "conf_matrix_eu_rf = confusion_matrix(y_test, predictions_rf)\n",
    "\n",
    "#plot the confusion matrix\n",
    "sns.heatmap(conf_matrix_eu_rf, annot=True, fmt=\"d\", cmap=\"Blues\", xticklabels=['ABS', 'HiPS', 'PE', 'PP'], yticklabels=['ABS', 'HiPS', 'PE', 'PP'])\n",
    "plt.xlabel(\"predicted\")\n",
    "plt.ylabel(\"real\")\n",
    "plt.title(\"Random forest with expected utility\")\n",
    "plt.show()"
   ]
  },
  {
   "cell_type": "markdown",
   "id": "f5020594",
   "metadata": {},
   "source": [
    "### d)"
   ]
  },
  {
   "cell_type": "code",
   "execution_count": 19,
   "id": "28e2e6a6",
   "metadata": {},
   "outputs": [],
   "source": [
    "from sklearn.tree import DecisionTreeClassifier\n",
    "from sklearn.dummy import DummyClassifier\n",
    "from sklearn.tree import DecisionTreeClassifier\n",
    "from sklearn.neighbors import KNeighborsClassifier\n",
    "from sklearn.neural_network import MLPClassifier\n",
    "import matplotlib.pyplot as plt"
   ]
  },
  {
   "cell_type": "code",
   "execution_count": 48,
   "id": "cec98511",
   "metadata": {},
   "outputs": [
    {
     "data": {
      "image/png": "[encoded data removed]",
      "text/plain": [
       "<Figure size 800x600 with 1 Axes>"
      ]
     },
     "metadata": {},
     "output_type": "display_data"
    }
   ],
   "source": [
    "dummy = DummyClassifier(strategy=\"most_frequent\")\n",
    "tree = DecisionTreeClassifier(max_depth=1)\n",
    "knn = KNeighborsClassifier(n_neighbors=2, n_jobs=-1) \n",
    "nnet = MLPClassifier(solver='adam', hidden_layer_sizes=(100), max_iter=1000)\n",
    "N = 10\n",
    "acc = [[],[],[],[]]\n",
    "for i in range(N):\n",
    "    X_train, X_test, y_train, y_test = train_test_split(X, Y, test_size=0.2)\n",
    "\n",
    "    dummy.fit(X_train, y_train)\n",
    "    tree.fit(X_train, y_train)\n",
    "    knn.fit(X_train, y_train)\n",
    "    nnet.fit(X_train, y_train)\n",
    "\n",
    "    \n",
    "    acc[0].append(test_data_set(X_test,y_test,dummy))\n",
    "    acc[1].append(test_data_set(X_test,y_test,tree))\n",
    "    acc[2].append(test_data_set(X_test,y_test,knn))\n",
    "    acc[3].append(test_data_set(X_test,y_test,nnet))\n",
    "    #acc.append(acc_rf)\n",
    "\n",
    "categories= ['dummy','tree','knn','nnet',]\n",
    "\n",
    "plt.figure(figsize=(8, 6))\n",
    "plt.boxplot(acc, labels=categories)\n",
    "plt.show()"
   ]
  },
  {
   "cell_type": "markdown",
   "id": "7c40b27a",
   "metadata": {},
   "source": [
    "# Exercice 3"
   ]
  },
  {
   "cell_type": "markdown",
   "id": "7a89ee07",
   "metadata": {},
   "source": [
    "### b)"
   ]
  },
  {
   "cell_type": "code",
   "execution_count": 56,
   "id": "84acec1c",
   "metadata": {},
   "outputs": [],
   "source": [
    "from math import exp\n",
    "\n",
    "def fit_gamma(train_label, dist, classes):\n",
    "    gamma = []\n",
    "    nbC = len(classes)\n",
    "    #print(nbC)\n",
    "    for i in range(nbC-1):\n",
    "        C_indices = [t for t in range(len(train_label)) if (train_label[t] == classes[i])]\n",
    "        C_dist = []\n",
    "        for ci in range(len(C_indices)):\n",
    "            for cj in range(ci + 1, len(C_indices)):\n",
    "                C_dist.append(dist[C_indices[ci]][C_indices[cj]])\n",
    "        gamma.append(1 / np.mean(C_dist))\n",
    "    return gamma\n",
    "\n",
    "def phi(i,d,gamma):\n",
    "    return 0.95*exp(-gamma[i-1]*(d**2))"
   ]
  },
  {
   "cell_type": "markdown",
   "id": "aeb8f108",
   "metadata": {},
   "source": [
    "Gamma calculation"
   ]
  },
  {
   "cell_type": "code",
   "execution_count": 28,
   "id": "e9ab211e",
   "metadata": {},
   "outputs": [],
   "source": [
    "from scipy.spatial.distance import pdist, squareform\n",
    "\n",
    "distances = pdist(X.values, metric='euclidean')\n",
    "dist_matrix = squareform(distances)"
   ]
  },
  {
   "cell_type": "code",
   "execution_count": 29,
   "id": "c91ceb33",
   "metadata": {},
   "outputs": [
    {
     "name": "stdout",
     "output_type": "stream",
     "text": [
      "[0.3839455080424259, 0.3740745034701214, 0.21525963183591018, 0.19154623203057225]\n"
     ]
    }
   ],
   "source": [
    "classe = list(Y.unique())\n",
    "classe.append('THETA')\n",
    "\n",
    "coeff_gamma = fit_gamma(Y.values, dist_matrix, classe)\n",
    "print(coeff_gamma)"
   ]
  },
  {
   "cell_type": "markdown",
   "id": "ad2a1b45",
   "metadata": {},
   "source": [
    "Classification code"
   ]
  },
  {
   "cell_type": "code",
   "execution_count": 40,
   "id": "6f731b0e",
   "metadata": {},
   "outputs": [],
   "source": [
    "def voisins1(y, k, dist):\n",
    "    # Trier les distances et conserver les indices originaux\n",
    "    sorted_indices = np.argsort(dist)\n",
    "    k_smallest_indices = sorted_indices[:k]  # Sélectionner les indices des k plus petites distances\n",
    "    #print(k_smallest_indices)\n",
    "    #print(len(y))\n",
    "    # Récupérer les k plus petites distances et les classes associées\n",
    "    k_smallest_distances = dist[k_smallest_indices]\n",
    "    k_smallest_classes = y.iloc[k_smallest_indices]\n",
    "    \n",
    "    return k_smallest_distances, k_smallest_classes"
   ]
  },
  {
   "cell_type": "code",
   "execution_count": 72,
   "id": "432fa1a1",
   "metadata": {},
   "outputs": [],
   "source": [
    "def eknn_single_value(x,k,X_train,y_train):\n",
    "    \n",
    "    distances = np.sqrt(np.sum((X_train.values - x) ** 2, axis=1))\n",
    "    \n",
    "    distances_voisins,classes = voisins1(y_train,k,distances)\n",
    "    #print(classes)\n",
    "    M_ABS = 1\n",
    "    M_Hips = 1\n",
    "    M_PE = 1\n",
    "    M_PP = 1\n",
    "    \n",
    "    for i in range(len(distances_voisins)):\n",
    "        distance_temp = distances_voisins[i]\n",
    "        classe_temps = classes.values[i]\n",
    "        #print('distance_temp : ',distance_temp)\n",
    "        if classe_temps == 'ABS' :\n",
    "            M_ABS = M_ABS*(1-phi(1,distance_temp,coeff_gamma))\n",
    "        if classe_temps == 'HiPS' :\n",
    "            M_Hips = M_Hips*(1-phi(2,distance_temp,coeff_gamma))\n",
    "        if classe_temps == 'PE' :\n",
    "            M_PE = M_PE*(1-phi(3,distance_temp,coeff_gamma))\n",
    "        if classe_temps == 'PP' :\n",
    "            M_PP = M_PP*(1-phi(4,distance_temp,coeff_gamma))\n",
    "            \n",
    "\n",
    "    m_ABS=[1-M_ABS, M_ABS]\n",
    "    m_HIPS=[1-M_Hips, M_Hips]\n",
    "    m_PE=[1-M_PE, M_PE]\n",
    "    m_PP=[1-M_PP, M_PP]\n",
    "        \n",
    "    m_j =  np.array([m_ABS, m_HIPS, m_PE, m_PP])\n",
    "    #print(m_j)\n",
    "    \n",
    "    product = np.prod(m_j[:,1]) # empty prediction\n",
    "    #print('pro : ', product)\n",
    "    sum = 0\n",
    "    for i in range(4):\n",
    "        sum += m_j[i][0]*m_j[(i+1)%4][1]*m_j[(i+2)%4][1]*m_j[(i+3)%4][1]\n",
    "    n_factor = product + sum\n",
    "    #print('n_factor',n_factor)\n",
    "    # calcul m = [m({ABS}), m({HIPS}), m({PE}), m({PP}), m(THETA)]\n",
    "    m = np.zeros(5)\n",
    "    for i in range(4):\n",
    "        m[i] = ( m_j[i][0]*m_j[(i+1)%4][1]*m_j[(i+2)%4][1]*m_j[(i+3)%4][1] ) / n_factor\n",
    "\n",
    "    m[4] = product / n_factor\n",
    "    return m"
   ]
  },
  {
   "cell_type": "markdown",
   "id": "b0247550",
   "metadata": {},
   "source": [
    "### d)"
   ]
  },
  {
   "cell_type": "code",
   "execution_count": 73,
   "id": "e0858ec3",
   "metadata": {},
   "outputs": [],
   "source": [
    "def eknn_utility_single(x,x_train,y_train,k):\n",
    "    probs = list(eknn_single_value(x,k,x_train,y_train))\n",
    "    \n",
    "    act1 = new_EU('ABS',probs[0],probs[1],probs[2],probs[4])\n",
    "    act2 = new_EU('HiPS',probs[0],probs[1],probs[2],probs[4])\n",
    "    act3 = new_EU('PE',probs[0],probs[1],probs[2],probs[4])\n",
    "    act4 = new_EU('PP',probs[0],probs[1],probs[2],probs[4])\n",
    "    v = [act1, act2, act3, act4]\n",
    "    max_index = v.index(max(v))\n",
    "    #print(v)\n",
    "    plastic = ['ABS', 'HiPS', 'PE', 'PP']\n",
    "    return plastic[max_index]\n",
    "    "
   ]
  },
  {
   "cell_type": "markdown",
   "id": "884f9e78",
   "metadata": {},
   "source": [
    "### d)"
   ]
  },
  {
   "cell_type": "code",
   "execution_count": 76,
   "id": "ef1c01f0",
   "metadata": {},
   "outputs": [
    {
     "name": "stdout",
     "output_type": "stream",
     "text": [
      "eknn accuracy =  0.2682926829268293\n"
     ]
    }
   ],
   "source": [
    "def eknn_utility(x,y,x_train,y_train,k):\n",
    "    accuracy = 0\n",
    "    for i in range(len(x)-1):\n",
    "        predicted = eknn_utility_single(x.values[i],x_train,y_train,k)\n",
    "        #print(y.iloc[i])\n",
    "        if predicted == y.iloc[i]:\n",
    "            accuracy += 1\n",
    "    return accuracy/(len(x)-1)\n",
    "        \n",
    "print('eknn accuracy = ',eknn_utility(X_test,y_train,X_test,y_test,50))"
   ]
  },
  {
   "cell_type": "code",
   "execution_count": null,
   "id": "693ca9a7",
   "metadata": {},
   "outputs": [],
   "source": []
  }
 ],
 "metadata": {
  "kernelspec": {
   "display_name": "Python 3 (ipykernel)",
   "language": "python",
   "name": "python3"
  },
  "language_info": {
   "codemirror_mode": {
    "name": "ipython",
    "version": 3
   },
   "file_extension": ".py",
   "mimetype": "text/x-python",
   "name": "python",
   "nbconvert_exporter": "python",
   "pygments_lexer": "ipython3",
   "version": "3.11.6"
  }
 },
 "nbformat": 4,
 "nbformat_minor": 5
}
